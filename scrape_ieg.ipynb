{
 "cells": [
  {
   "cell_type": "code",
   "execution_count": 1,
   "metadata": {},
   "outputs": [],
   "source": [
    "# Dependencies\n",
    "from bs4 import BeautifulSoup as bs\n",
    "import pandas as pd\n",
    "import requests\n",
    "from splinter import Browser\n",
    "from webdriver_manager.chrome import ChromeDriverManager\n",
    "import re\n",
    "import csv\n"
   ]
  },
  {
   "cell_type": "code",
   "execution_count": null,
   "metadata": {},
   "outputs": [
    {
     "name": "stderr",
     "output_type": "stream",
     "text": [
      "\n",
      "\n",
      "====== WebDriver manager ======\n",
      "Current google-chrome version is 90.0.4430\n",
      "Get LATEST driver version for 90.0.4430\n",
      "There is no [win32] chromedriver for browser 90.0.4430 in cache\n",
      "Get LATEST driver version for 90.0.4430\n"
     ]
    }
   ],
   "source": [
    "executable_path = {'executable_path': ChromeDriverManager().install()}\n",
    "browser = Browser('chrome', **executable_path, headless=False)"
   ]
  },
  {
   "cell_type": "code",
   "execution_count": null,
   "metadata": {},
   "outputs": [],
   "source": [
    "# URL of page to be scraped nasa mars news\n",
    "url = 'https://finances.worldbank.org/Other/IEG-World-Bank-Project-Performance-Ratings/rq9d-pctf/data'\n",
    "browser.visit(url)\n",
    "html = browser.html\n",
    "soup = bs(html, 'html.parser')\n",
    "#print(soup.prettify())"
   ]
  },
  {
   "cell_type": "code",
   "execution_count": null,
   "metadata": {},
   "outputs": [],
   "source": [
    "# get news title, news link, news text, news date\n",
    "results = soup.find_all(\"div\", attrs={\"class\":\"socrata-table\"})"
   ]
  },
  {
   "cell_type": "code",
   "execution_count": null,
   "metadata": {},
   "outputs": [],
   "source": [
    "table = results[0].find(\"table\")"
   ]
  },
  {
   "cell_type": "code",
   "execution_count": null,
   "metadata": {},
   "outputs": [],
   "source": [
    "body = table.find_all(\"tr\")\n",
    "head=body[0]\n",
    "body_rows=body[1:]\n",
    "headings=[]\n",
    "for item in head.find_all(\"th\"):\n",
    "    item=(item.text).rstrip(\"\\n\")\n",
    "    headings.append(item)\n",
    "#print(headings)"
   ]
  },
  {
   "cell_type": "code",
   "execution_count": null,
   "metadata": {},
   "outputs": [],
   "source": [
    "all_rows = [] # will be a list for list for all rows\n",
    "for row_num in range(len(body_rows)): # A row at a time\n",
    "    row = [] # this will old entries for one row\n",
    "    for row_item in body_rows[row_num].find_all(\"td\"): #loop through all row entries\n",
    "        # row_item.text removes the tags from the entries\n",
    "        # the following regex is to remove \\xa0 and \\n and comma from row_item.text\n",
    "        # xa0 encodes the flag, \\n is the newline and comma separates thousands in numbers\n",
    "        aa = re.sub(\"(\\xa0)|(\\n)|,\",\"\",row_item.text)\n",
    "        #append aa to row - note one row entry is being appended\n",
    "        row.append(aa)\n",
    "    # append one row to all_rows\n",
    "    all_rows.append(row)"
   ]
  },
  {
   "cell_type": "code",
   "execution_count": null,
   "metadata": {},
   "outputs": [],
   "source": [
    "project_df = pd.DataFrame(data=all_rows,columns=headings)"
   ]
  },
  {
   "cell_type": "code",
   "execution_count": null,
   "metadata": {},
   "outputs": [],
   "source": [
    "#print(df.columns)"
   ]
  },
  {
   "cell_type": "code",
   "execution_count": null,
   "metadata": {},
   "outputs": [],
   "source": [
    "project_df.columns=['Project ID','Project Name','Region','Country Code','Country Name','Approval Date',\n",
    "       'Approval FY','Sector Board','Agreement Type','Lending Project Cost','Net Commitment',\n",
    "       'Deactivation Date','Exit FY','Lending Instrument Typen','Lending Instrument','Product Line Code',\n",
    "       'Product Line','IEG_EvalDate','IEG_EvalFY','IEG_EvalType','ERR at Appraisal','ERR at Completion',\n",
    "       'IEG_Outcome','IEG_RDO','(disc)IEG_IDImpact','IEG_BankQualityAtEntry','IEG_BankQualityOfSupervision',\n",
    "       'IEG_OverallBankPerf','(disc)IEG_BorrPrep','EG_ImplementingAgencyPerf','IEG_GovernmentPerf',\n",
    "       'IEG_OverallBorrPerf','IEG_ICRQuality','(disc)IEG_Sustainability','IEG_MEQualit','IEG_SourceDocumentURL']\n",
    "#project_df"
   ]
  },
  {
   "cell_type": "code",
   "execution_count": null,
   "metadata": {},
   "outputs": [],
   "source": [
    "project_df=project_df.loc[:,['Project ID','Project Name','Region','Country Code','Country Name','Approval Date',\n",
    "       'Approval FY','Sector Board','Lending Project Cost','Net Commitment',\n",
    "       'Deactivation Date','Lending Instrument','Product Line Code',\n",
    "       'Product Line','IEG_Outcome','IEG_SourceDocumentURL']]\n",
    "#project_df"
   ]
  },
  {
   "cell_type": "code",
   "execution_count": null,
   "metadata": {},
   "outputs": [],
   "source": [
    "project_df.to_html('app/templates/iegData.html')"
   ]
  },
  {
   "cell_type": "code",
   "execution_count": null,
   "metadata": {},
   "outputs": [],
   "source": [
    "browser.quit()"
   ]
  },
  {
   "cell_type": "code",
   "execution_count": null,
   "metadata": {},
   "outputs": [],
   "source": [
    "gdp_df=pd.read_csv('data/gdp-per-capita-worldbank.csv')\n",
    "#gdp_df.head(20)"
   ]
  },
  {
   "cell_type": "code",
   "execution_count": null,
   "metadata": {},
   "outputs": [],
   "source": [
    "gdp_df.to_html('app/templates/gdpData.html')"
   ]
  },
  {
   "cell_type": "code",
   "execution_count": null,
   "metadata": {},
   "outputs": [],
   "source": [
    "population_df=pd.read_csv('data/world-population-by-world-regions-post-1820.csv')\n",
    "#population_df.head(20)"
   ]
  },
  {
   "cell_type": "code",
   "execution_count": null,
   "metadata": {},
   "outputs": [],
   "source": [
    "population_df.to_html('app/templates/populationData.html')"
   ]
  },
  {
   "cell_type": "code",
   "execution_count": null,
   "metadata": {},
   "outputs": [],
   "source": [
    "cpi_df=pd.read_csv('data/merged_cpi_data.csv')\n",
    "#cpi_df.head(20)"
   ]
  },
  {
   "cell_type": "code",
   "execution_count": null,
   "metadata": {},
   "outputs": [],
   "source": [
    "cpi_df.to_html('app/templates/cpiData.html')"
   ]
  },
  {
   "cell_type": "code",
   "execution_count": null,
   "metadata": {},
   "outputs": [],
   "source": []
  }
 ],
 "metadata": {
  "kernelspec": {
   "display_name": "Python 3",
   "language": "python",
   "name": "python3"
  },
  "language_info": {
   "codemirror_mode": {
    "name": "ipython",
    "version": 3
   },
   "file_extension": ".py",
   "mimetype": "text/x-python",
   "name": "python",
   "nbconvert_exporter": "python",
   "pygments_lexer": "ipython3",
   "version": "3.8.5"
  }
 },
 "nbformat": 4,
 "nbformat_minor": 4
}