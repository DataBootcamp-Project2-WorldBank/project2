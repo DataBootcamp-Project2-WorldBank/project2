{
 "cells": [
  {
   "cell_type": "code",
   "execution_count": 1,
   "metadata": {},
   "outputs": [
    {
     "data": {
      "text/html": [
       "        <script type=\"text/javascript\">\n",
       "        window.PlotlyConfig = {MathJaxConfig: 'local'};\n",
       "        if (window.MathJax) {MathJax.Hub.Config({SVG: {font: \"STIX-Web\"}});}\n",
       "        if (typeof require !== 'undefined') {\n",
       "        require.undef(\"plotly\");\n",
       "        requirejs.config({\n",
       "            paths: {\n",
       "                'plotly': ['https://cdn.plot.ly/plotly-latest.min']\n",
       "            }\n",
       "        });\n",
       "        require(['plotly'], function(Plotly) {\n",
       "            window._Plotly = Plotly;\n",
       "        });\n",
       "        }\n",
       "        </script>\n",
       "        "
      ]
     },
     "metadata": {},
     "output_type": "display_data"
    }
   ],
   "source": [
    "# Dependencies\n",
    "from bs4 import BeautifulSoup as bs\n",
    "import pandas as pd\n",
    "import re\n",
    "import csv\n",
    "#import matplotlib.pyplot as plt\n",
    "import plotly.express as px\n",
    "from plotly.offline import download_plotlyjs, init_notebook_mode, plot, iplot\n",
    "#import datapane as dp\n",
    "import cufflinks as cf\n",
    "cf.go_offline()\n",
    "cf.set_config_file(offline=False, world_readable=True)"
   ]
  },
  {
   "cell_type": "code",
   "execution_count": 2,
   "metadata": {},
   "outputs": [],
   "source": [
    "project_df=pd.read_csv('data/IEG_World_Bank_Project_Performance_Ratings.csv')"
   ]
  },
  {
   "cell_type": "code",
   "execution_count": 3,
   "metadata": {},
   "outputs": [],
   "source": [
    "project_df=project_df.loc[:,['Country Name','IEG_Outcome']]\n",
    "project_df.columns=['country', 'IEG_Outcome']\n",
    "project_df=project_df.assign(count=1)"
   ]
  },
  {
   "cell_type": "code",
   "execution_count": 11,
   "metadata": {},
   "outputs": [],
   "source": [
    "project_df = project_df.groupby(['country','IEG_Outcome'])['count'].sum().reset_index()\n",
    "#project_df.head(20)"
   ]
  },
  {
   "cell_type": "code",
   "execution_count": 5,
   "metadata": {},
   "outputs": [],
   "source": [
    "project_df= project_df.sort_values(by=['count'], ascending=False)"
   ]
  },
  {
   "cell_type": "code",
   "execution_count": 6,
   "metadata": {},
   "outputs": [
    {
     "data": {
      "application/vnd.plotly.v1+json": {
       "config": {
        "plotlyServerURL": "https://plot.ly"
       },
       "data": [
        {
         "alignmentgroup": "True",
         "hovertemplate": "IEG_Outcome=Satisfactory<br>country=%{x}<br>count=%{y}<extra></extra>",
         "legendgroup": "Satisfactory",
         "marker": {
          "color": "#636efa"
         },
         "name": "Satisfactory",
         "offsetgroup": "Satisfactory",
         "orientation": "v",
         "showlegend": true,
         "textposition": "outside",
         "texttemplate": "%{text:.2s}",
         "type": "bar",
         "x": [
          "India",
          "Indonesia",
          "China",
          "Brazil",
          "Pakistan",
          "Mexico",
          "Philippines",
          "Colombia",
          "Turkey",
          "Bangladesh",
          "Korea, Republic",
          "Thailand",
          "Morocco",
          "Tunisia",
          "Yemen, Republic",
          "Ghana",
          "Tanzania",
          "Malaysia",
          "Argentina",
          "Egypt, Arab Rep",
          "Kenya",
          "Romania",
          "Senegal",
          "Sri Lanka",
          "Cote d'Ivoire",
          "Yugoslavia, for",
          "Jordan",
          "Malawi",
          "Uganda",
          "Peru",
          "Bolivia",
          "Madagascar",
          "Nepal",
          "Nigeria",
          "Ethiopia",
          "Vietnam",
          "Ecuador",
          "Mozambique",
          "Zambia",
          "Burkina Faso",
          "Chile",
          "Uruguay",
          "Jamaica",
          "Cameroon",
          "Benin",
          "Honduras",
          "Bosnia and Herz",
          "Albania",
          "Rwanda",
          "Mali",
          "Nicaragua",
          "Niger",
          "Guinea",
          "Mauritania",
          "Russian Federat",
          "Burundi",
          "Hungary",
          "Georgia",
          "Paraguay",
          "Mauritius",
          "Costa Rica",
          "Bulgaria",
          "Papua New Guine",
          "Poland",
          "Sudan",
          "Armenia",
          "Guatemala",
          "Botswana",
          "Algeria",
          "Kyrgyz Republic",
          "Zimbabwe",
          "Panama",
          "Guyana",
          "El Salvador",
          "Kazakhstan",
          "Somalia",
          "Togo",
          "Ukraine",
          "Myanmar",
          "Sierra Leone",
          "Congo, Democrat",
          "Dominican Repub",
          "Portugal",
          "Moldova",
          "Cyprus",
          "Liberia",
          "Serbia",
          "Macedonia, form",
          "Lao People's De",
          "Tajikistan",
          "Iran, Islamic R",
          "Lesotho",
          "Chad",
          "Afghanistan",
          "Greece",
          "Haiti",
          "Cambodia",
          "Cabo Verde",
          "Africa",
          "Mongolia",
          "Trinidad and To",
          "Bhutan",
          "West Bank and G",
          "Gambia, The",
          "Venezuela, Repu",
          "Central African",
          "Guinea-Bissau",
          "Latvia",
          "Azerbaijan",
          "Oman",
          "Lithuania",
          "Singapore",
          "Spain",
          "Barbados",
          "Croatia",
          "Swaziland",
          "Lebanon",
          "Kosovo",
          "Fiji",
          "Ireland",
          "Comoros",
          "Taiwan, China",
          "Djibouti",
          "Angola",
          "Israel",
          "Caribbean",
          "Slovenia",
          "Eritrea",
          "Congo, Republic",
          "Syrian Arab Rep",
          "Iraq",
          "Solomon Islands",
          "Estonia",
          "Belarus",
          "St. Lucia",
          "Maldives",
          "Samoa",
          "Belize",
          "Sao Tome and Pr",
          "Czech Republic",
          "Dominica",
          "Timor-Leste",
          "Finland",
          "Gabon",
          "St. Vincent and",
          "Grenada",
          "Seychelles",
          "Slovak Republic",
          "Uzbekistan",
          "Bahamas, The",
          "Western Africa",
          "Iceland",
          "Tonga",
          "Montenegro",
          "South Africa",
          "South Sudan",
          "St. Kitts and N",
          "Central America",
          "World",
          "Vanuatu",
          "OECS Countries",
          "New Zealand",
          "Namibia",
          "Red Sea and Gul",
          "Middle East and",
          "Europe and Cent",
          "Equatorial Guin",
          "South Eastern E"
         ],
         "xaxis": "x",
         "y": [
          296,
          257,
          230,
          201,
          138,
          132,
          130,
          126,
          117,
          116,
          114,
          106,
          104,
          102,
          85,
          78,
          74,
          72,
          71,
          70,
          69,
          68,
          68,
          64,
          63,
          60,
          59,
          57,
          53,
          53,
          52,
          50,
          49,
          48,
          48,
          47,
          46,
          45,
          45,
          44,
          42,
          42,
          42,
          41,
          41,
          40,
          40,
          40,
          38,
          37,
          37,
          36,
          35,
          34,
          34,
          33,
          33,
          30,
          30,
          29,
          28,
          28,
          28,
          27,
          27,
          26,
          25,
          24,
          23,
          23,
          23,
          23,
          23,
          23,
          22,
          22,
          22,
          22,
          21,
          21,
          20,
          20,
          19,
          19,
          19,
          19,
          18,
          18,
          18,
          17,
          17,
          16,
          16,
          16,
          15,
          15,
          15,
          15,
          14,
          14,
          14,
          13,
          12,
          12,
          12,
          12,
          12,
          12,
          11,
          10,
          10,
          10,
          10,
          10,
          10,
          10,
          9,
          8,
          8,
          8,
          8,
          8,
          7,
          7,
          7,
          7,
          7,
          7,
          7,
          7,
          6,
          6,
          6,
          6,
          6,
          6,
          6,
          5,
          4,
          4,
          4,
          4,
          4,
          4,
          4,
          4,
          4,
          4,
          3,
          3,
          3,
          3,
          3,
          3,
          2,
          2,
          2,
          2,
          1,
          1,
          1,
          1,
          1,
          1,
          1,
          1,
          1,
          1
         ],
         "yaxis": "y"
        },
        {
         "alignmentgroup": "True",
         "hovertemplate": "IEG_Outcome=Unsatisfactory<br>country=%{x}<br>count=%{y}<extra></extra>",
         "legendgroup": "Unsatisfactory",
         "marker": {
          "color": "#EF553B"
         },
         "name": "Unsatisfactory",
         "offsetgroup": "Unsatisfactory",
         "orientation": "v",
         "showlegend": true,
         "textposition": "outside",
         "texttemplate": "%{text:.2s}",
         "type": "bar",
         "x": [
          "India",
          "Kenya",
          "Brazil",
          "Indonesia",
          "Nigeria",
          "Tanzania",
          "Congo, Democrat",
          "Bangladesh",
          "Pakistan",
          "Philippines",
          "Mexico",
          "Madagascar",
          "Turkey",
          "Senegal",
          "Yemen, Republic",
          "Zambia",
          "Argentina",
          "Cameroon",
          "Algeria",
          "Mali",
          "Nepal",
          "Sudan",
          "Peru",
          "Malawi",
          "Morocco",
          "Colombia",
          "Cote d'Ivoire",
          "Uganda",
          "Egypt, Arab Rep",
          "Niger",
          "Jamaica",
          "Guinea",
          "Sri Lanka",
          "Ghana",
          "Ethiopia",
          "Tunisia",
          "Togo",
          "Romania",
          "Rwanda",
          "Chad",
          "Ecuador",
          "Bolivia",
          "Haiti",
          "China",
          "Lao People's De",
          "Mauritania",
          "Papua New Guine",
          "Congo, Republic",
          "Malaysia",
          "Liberia",
          "Jordan",
          "Yugoslavia, for",
          "Panama",
          "Venezuela, Repu",
          "Paraguay",
          "Russian Federat",
          "Honduras",
          "Somalia",
          "Thailand",
          "Sierra Leone",
          "Dominican Repub",
          "Burundi",
          "Central African",
          "Iran, Islamic R",
          "Korea, Republic",
          "Burkina Faso",
          "Guyana",
          "Lebanon",
          "Gambia, The",
          "Benin",
          "Africa",
          "Albania",
          "Cambodia",
          "Ukraine",
          "Syrian Arab Rep",
          "Portugal",
          "Myanmar",
          "Lesotho",
          "Guinea-Bissau",
          "Mozambique",
          "Chile",
          "Djibouti",
          "Comoros",
          "Afghanistan",
          "West Bank and G",
          "Uruguay",
          "Trinidad and To",
          "Cyprus",
          "Nicaragua",
          "Mauritius",
          "Zimbabwe",
          "Timor-Leste",
          "Equatorial Guin",
          "Gabon",
          "Guatemala",
          "Costa Rica",
          "Botswana",
          "Kyrgyz Republic",
          "Bulgaria",
          "Caribbean",
          "Solomon Islands",
          "Poland",
          "Bosnia and Herz",
          "Angola",
          "Vietnam",
          "Kazakhstan",
          "Hungary",
          "Tajikistan",
          "Sao Tome and Pr",
          "Georgia",
          "Slovak Republic",
          "South Sudan",
          "Vanuatu",
          "Uzbekistan",
          "Tonga",
          "Samoa",
          "Lithuania",
          "Eastern Africa",
          "El Salvador",
          "Fiji",
          "Croatia",
          "Moldova",
          "Azerbaijan",
          "Mongolia",
          "Central Asia",
          "Barbados",
          "Western Africa",
          "Belarus",
          "Bhutan",
          "Belize",
          "Cabo Verde",
          "Swaziland",
          "Maldives",
          "Kosovo",
          "Montenegro",
          "Middle East and",
          "Grenada",
          "Greece",
          "St. Lucia",
          "Finland",
          "Eritrea",
          "Spain"
         ],
         "xaxis": "x",
         "y": [
          94,
          71,
          70,
          64,
          55,
          54,
          51,
          47,
          46,
          43,
          38,
          37,
          37,
          34,
          32,
          31,
          31,
          30,
          29,
          29,
          28,
          28,
          28,
          27,
          26,
          25,
          25,
          24,
          24,
          23,
          23,
          23,
          23,
          23,
          23,
          21,
          20,
          19,
          19,
          19,
          18,
          18,
          17,
          16,
          16,
          16,
          16,
          16,
          15,
          15,
          15,
          14,
          14,
          13,
          13,
          12,
          12,
          12,
          12,
          11,
          11,
          11,
          11,
          10,
          10,
          10,
          9,
          9,
          9,
          9,
          8,
          8,
          8,
          8,
          8,
          7,
          7,
          7,
          7,
          6,
          6,
          6,
          5,
          5,
          5,
          5,
          5,
          5,
          4,
          4,
          4,
          4,
          4,
          4,
          4,
          4,
          4,
          4,
          3,
          3,
          3,
          3,
          3,
          3,
          3,
          3,
          3,
          3,
          3,
          3,
          2,
          2,
          2,
          2,
          2,
          2,
          2,
          2,
          2,
          2,
          2,
          2,
          2,
          2,
          1,
          1,
          1,
          1,
          1,
          1,
          1,
          1,
          1,
          1,
          1,
          1,
          1,
          1,
          1,
          1,
          1,
          1
         ],
         "yaxis": "y"
        },
        {
         "alignmentgroup": "True",
         "hovertemplate": "IEG_Outcome=Moderately Satisfactory<br>country=%{x}<br>count=%{y}<extra></extra>",
         "legendgroup": "Moderately Satisfactory",
         "marker": {
          "color": "#00cc96"
         },
         "name": "Moderately Satisfactory",
         "offsetgroup": "Moderately Satisfactory",
         "orientation": "v",
         "showlegend": true,
         "textposition": "outside",
         "texttemplate": "%{text:.2s}",
         "type": "bar",
         "x": [
          "India",
          "Brazil",
          "China",
          "Indonesia",
          "Pakistan",
          "Ghana",
          "Argentina",
          "Mexico",
          "Bangladesh",
          "Colombia",
          "Vietnam",
          "Uganda",
          "Mozambique",
          "Tanzania",
          "Burkina Faso",
          "Morocco",
          "Ethiopia",
          "Albania",
          "Armenia",
          "Turkey",
          "Afghanistan",
          "Yemen, Republic",
          "Nigeria",
          "Tunisia",
          "Senegal",
          "Sri Lanka",
          "Egypt, Arab Rep",
          "Malawi",
          "Madagascar",
          "Honduras",
          "Georgia",
          "Lao People's De",
          "Mali",
          "Nepal",
          "Bolivia",
          "Jordan",
          "Bosnia and Herz",
          "Croatia",
          "Ecuador",
          "Zambia",
          "Romania",
          "Burundi",
          "Philippines",
          "Sierra Leone",
          "Macedonia, form",
          "Kenya",
          "Lesotho",
          "Mongolia",
          "Africa",
          "West Bank and G",
          "Jamaica",
          "Guinea",
          "Nicaragua",
          "Guatemala",
          "Tajikistan",
          "Moldova",
          "Poland",
          "Cambodia",
          "Uruguay",
          "Peru",
          "Rwanda",
          "Chile",
          "Dominican Repub",
          "Kosovo",
          "Russian Federat",
          "Azerbaijan",
          "Kyrgyz Republic",
          "Niger",
          "Bulgaria",
          "Algeria",
          "Mauritania",
          "Benin",
          "Zimbabwe",
          "Serbia",
          "Sudan",
          "Haiti",
          "Gambia, The",
          "Ukraine",
          "Timor-Leste",
          "Chad",
          "Cameroon",
          "Costa Rica",
          "Cote d'Ivoire",
          "Iraq",
          "Congo, Democrat",
          "Togo",
          "Cabo Verde",
          "Hungary",
          "Panama",
          "Lithuania",
          "Uzbekistan",
          "Guinea-Bissau",
          "El Salvador",
          "Thailand",
          "Comoros",
          "Kazakhstan",
          "St. Lucia",
          "Venezuela, Repu",
          "Samoa",
          "Bhutan",
          "Liberia",
          "Central African",
          "Guyana",
          "Congo, Republic",
          "South Sudan",
          "Eritrea",
          "Grenada",
          "South Africa",
          "Sao Tome and Pr",
          "Iran, Islamic R",
          "Papua New Guine",
          "OECS Countries",
          "Mauritius",
          "Djibouti",
          "Gabon",
          "Tonga",
          "Angola",
          "Paraguay",
          "Latvia",
          "Latin America",
          "Slovak Republic",
          "Caribbean",
          "Myanmar",
          "Lebanon",
          "Barbados",
          "Malaysia",
          "Maldives",
          "Dominica",
          "Montenegro",
          "St. Vincent and",
          "Solomon Islands",
          "Somalia",
          "Korea, Republic",
          "Botswana",
          "East Asia and P",
          "Czech Republic",
          "Fiji",
          "Andean Countrie",
          "Belize",
          "Cyprus",
          "Trinidad and To",
          "Belarus",
          "World",
          "Western Africa",
          "Bahamas, The",
          "Central America",
          "Seychelles",
          "Oman",
          "Slovenia",
          "Europe and Cent",
          "Estonia",
          "Equatorial Guin",
          "St. Kitts and N",
          "South Eastern E"
         ],
         "xaxis": "x",
         "y": [
          90,
          86,
          74,
          65,
          51,
          45,
          44,
          43,
          42,
          40,
          39,
          37,
          33,
          33,
          32,
          32,
          31,
          30,
          30,
          29,
          29,
          29,
          28,
          27,
          27,
          26,
          26,
          26,
          25,
          24,
          24,
          23,
          23,
          22,
          22,
          20,
          20,
          20,
          20,
          19,
          19,
          19,
          19,
          19,
          19,
          18,
          18,
          18,
          18,
          17,
          17,
          16,
          16,
          16,
          16,
          16,
          15,
          15,
          15,
          14,
          14,
          14,
          14,
          14,
          14,
          14,
          14,
          13,
          13,
          13,
          13,
          12,
          12,
          10,
          10,
          10,
          10,
          10,
          10,
          10,
          9,
          9,
          9,
          9,
          9,
          8,
          8,
          8,
          8,
          7,
          7,
          7,
          7,
          7,
          7,
          6,
          6,
          6,
          6,
          6,
          5,
          5,
          5,
          5,
          5,
          5,
          5,
          5,
          5,
          5,
          5,
          5,
          5,
          4,
          4,
          4,
          4,
          4,
          4,
          4,
          3,
          3,
          3,
          3,
          3,
          3,
          3,
          3,
          3,
          2,
          2,
          2,
          2,
          2,
          2,
          2,
          2,
          1,
          1,
          1,
          1,
          1,
          1,
          1,
          1,
          1,
          1,
          1,
          1,
          1,
          1,
          1,
          1,
          1
         ],
         "yaxis": "y"
        },
        {
         "alignmentgroup": "True",
         "hovertemplate": "IEG_Outcome=Moderately Unsatisfactory<br>country=%{x}<br>count=%{y}<extra></extra>",
         "legendgroup": "Moderately Unsatisfactory",
         "marker": {
          "color": "#ab63fa"
         },
         "name": "Moderately Unsatisfactory",
         "offsetgroup": "Moderately Unsatisfactory",
         "orientation": "v",
         "showlegend": true,
         "textposition": "outside",
         "texttemplate": "%{text:.2s}",
         "type": "bar",
         "x": [
          "Indonesia",
          "Ghana",
          "Brazil",
          "India",
          "Uganda",
          "Mexico",
          "Tanzania",
          "Pakistan",
          "Philippines",
          "Bolivia",
          "Bangladesh",
          "Nigeria",
          "Ethiopia",
          "Yemen, Republic",
          "Morocco",
          "Russian Federat",
          "China",
          "Croatia",
          "Burkina Faso",
          "Benin",
          "Madagascar",
          "Kenya",
          "Malawi",
          "Argentina",
          "Turkey",
          "Timor-Leste",
          "Mali",
          "Zambia",
          "Africa",
          "Albania",
          "Sri Lanka",
          "Honduras",
          "Colombia",
          "Poland",
          "Tunisia",
          "Georgia",
          "Cote d'Ivoire",
          "Vietnam",
          "Burundi",
          "Romania",
          "Niger",
          "Guinea",
          "Senegal",
          "Kyrgyz Republic",
          "Ecuador",
          "Nepal",
          "Mozambique",
          "Congo, Republic",
          "Jamaica",
          "Jordan",
          "Iraq",
          "Haiti",
          "Central African",
          "West Bank and G",
          "Guatemala",
          "Lesotho",
          "Cameroon",
          "Macedonia, form",
          "Azerbaijan",
          "Paraguay",
          "Chad",
          "South Sudan",
          "Moldova",
          "Egypt, Arab Rep",
          "Bulgaria",
          "Guinea-Bissau",
          "Peru",
          "Hungary",
          "Mauritania",
          "Gambia, The",
          "Panama",
          "Nicaragua",
          "Rwanda",
          "Tajikistan",
          "Eritrea",
          "St. Lucia",
          "Djibouti",
          "Afghanistan",
          "Bosnia and Herz",
          "Cambodia",
          "Lebanon",
          "Uzbekistan",
          "Bhutan",
          "Armenia",
          "Angola",
          "Sierra Leone",
          "Trinidad and To",
          "Iran, Islamic R",
          "Thailand",
          "El Salvador",
          "Gabon",
          "Montenegro",
          "Serbia",
          "Seychelles",
          "Uruguay",
          "Portugal",
          "Sudan",
          "Venezuela, Repu",
          "Ukraine",
          "Caribbean",
          "Cabo Verde",
          "Lao People's De",
          "Botswana",
          "Lithuania",
          "Maldives",
          "Dominica",
          "Papua New Guine",
          "Comoros",
          "Belize",
          "Namibia",
          "Mekong",
          "Mauritius",
          "Costa Rica",
          "Congo, Democrat",
          "Aral Sea",
          "Zimbabwe",
          "Togo",
          "Algeria",
          "Turkmenistan",
          "Belarus",
          "Barbados",
          "Chile",
          "Central Asia",
          "Central America",
          "Bahamas, The",
          "Malaysia",
          "Sao Tome and Pr",
          "Liberia",
          "Kosovo",
          "Mongolia",
          "Korea, Republic",
          "Grenada",
          "St. Vincent and",
          "Equatorial Guin",
          "St. Kitts and N",
          "Kiribati",
          "Solomon Islands",
          "Kazakhstan",
          "Guyana"
         ],
         "xaxis": "x",
         "y": [
          44,
          34,
          25,
          23,
          21,
          20,
          19,
          17,
          16,
          16,
          16,
          15,
          15,
          14,
          14,
          14,
          13,
          13,
          13,
          13,
          13,
          13,
          13,
          12,
          11,
          11,
          11,
          11,
          10,
          10,
          10,
          10,
          10,
          9,
          9,
          9,
          8,
          8,
          7,
          7,
          7,
          7,
          7,
          7,
          7,
          7,
          6,
          6,
          6,
          6,
          6,
          6,
          6,
          6,
          6,
          6,
          6,
          6,
          6,
          5,
          5,
          5,
          5,
          5,
          5,
          5,
          5,
          5,
          5,
          5,
          4,
          4,
          4,
          4,
          4,
          4,
          4,
          4,
          4,
          4,
          4,
          3,
          3,
          3,
          3,
          3,
          3,
          3,
          3,
          3,
          3,
          3,
          3,
          2,
          2,
          2,
          2,
          2,
          2,
          2,
          2,
          2,
          2,
          2,
          2,
          2,
          2,
          2,
          2,
          2,
          2,
          2,
          1,
          1,
          1,
          1,
          1,
          1,
          1,
          1,
          1,
          1,
          1,
          1,
          1,
          1,
          1,
          1,
          1,
          1,
          1,
          1,
          1,
          1,
          1,
          1,
          1,
          1,
          1
         ],
         "yaxis": "y"
        },
        {
         "alignmentgroup": "True",
         "hovertemplate": "IEG_Outcome=Highly Satisfactory<br>country=%{x}<br>count=%{y}<extra></extra>",
         "legendgroup": "Highly Satisfactory",
         "marker": {
          "color": "#FFA15A"
         },
         "name": "Highly Satisfactory",
         "offsetgroup": "Highly Satisfactory",
         "orientation": "v",
         "showlegend": true,
         "textposition": "outside",
         "texttemplate": "%{text:.2s}",
         "type": "bar",
         "x": [
          "China",
          "India",
          "Chile",
          "Mexico",
          "Brazil",
          "Indonesia",
          "Korea, Republic",
          "Thailand",
          "Bangladesh",
          "Latvia",
          "Argentina",
          "Poland",
          "Hungary",
          "Peru",
          "Romania",
          "Mauritius",
          "Kyrgyz Republic",
          "Turkey",
          "Jordan",
          "Senegal",
          "Macedonia, form",
          "Armenia",
          "Colombia",
          "Lao People's De",
          "Estonia",
          "Benin",
          "Morocco",
          "Pakistan",
          "Nicaragua",
          "Yemen, Republic",
          "Sri Lanka",
          "Philippines",
          "Vietnam",
          "Bosnia and Herz",
          "West Bank and G",
          "Croatia",
          "Maldives",
          "Ghana",
          "Mali",
          "Egypt, Arab Rep",
          "Rwanda",
          "Serbia",
          "Ukraine",
          "Russian Federat",
          "Slovak Republic",
          "Tanzania",
          "Uganda",
          "Burkina Faso",
          "Honduras",
          "Bulgaria",
          "Bolivia",
          "Madagascar",
          "Malawi",
          "Dominican Repub",
          "El Salvador",
          "Ethiopia",
          "Guinea",
          "Nigeria",
          "Niger",
          "Africa",
          "Mozambique",
          "Panama",
          "Costa Rica",
          "Albania",
          "Tunisia",
          "Czech Republic",
          "Togo",
          "Cyprus",
          "Algeria",
          "Belize",
          "Azerbaijan",
          "Caribbean",
          "Burundi",
          "Uruguay",
          "Cambodia",
          "Cabo Verde",
          "Mauritania",
          "Malaysia",
          "Lesotho",
          "Latin America",
          "Papua New Guine",
          "Myanmar",
          "Portugal",
          "Moldova",
          "Ecuador",
          "Georgia",
          "Solomon Islands",
          "Kazakhstan",
          "South Africa",
          "Haiti"
         ],
         "xaxis": "x",
         "y": [
          35,
          19,
          15,
          14,
          13,
          12,
          9,
          8,
          8,
          8,
          8,
          8,
          7,
          7,
          7,
          7,
          6,
          6,
          6,
          6,
          6,
          6,
          5,
          5,
          5,
          5,
          4,
          4,
          4,
          4,
          4,
          3,
          3,
          3,
          3,
          3,
          3,
          3,
          3,
          3,
          2,
          2,
          2,
          2,
          2,
          2,
          2,
          2,
          2,
          2,
          2,
          2,
          2,
          2,
          2,
          2,
          2,
          2,
          2,
          2,
          2,
          2,
          1,
          1,
          1,
          1,
          1,
          1,
          1,
          1,
          1,
          1,
          1,
          1,
          1,
          1,
          1,
          1,
          1,
          1,
          1,
          1,
          1,
          1,
          1,
          1,
          1,
          1,
          1,
          1
         ],
         "yaxis": "y"
        },
        {
         "alignmentgroup": "True",
         "hovertemplate": "IEG_Outcome=Not Rated<br>country=%{x}<br>count=%{y}<extra></extra>",
         "legendgroup": "Not Rated",
         "marker": {
          "color": "#19d3f3"
         },
         "name": "Not Rated",
         "offsetgroup": "Not Rated",
         "orientation": "v",
         "showlegend": true,
         "textposition": "outside",
         "texttemplate": "%{text:.2s}",
         "type": "bar",
         "x": [
          "Mexico",
          "Yugoslavia, for",
          "Somalia",
          "Brazil",
          "Ecuador",
          "Egypt, Arab Rep",
          "El Salvador",
          "Argentina",
          "Yemen, Republic",
          "Bangladesh",
          "Uganda",
          "Congo, Democrat",
          "Jordan",
          "Sri Lanka",
          "Ukraine",
          "China",
          "Afghanistan",
          "Paraguay",
          "Panama",
          "Portugal",
          "India",
          "Syrian Arab Rep",
          "Ghana",
          "Tunisia",
          "Zimbabwe",
          "Turkey",
          "Peru",
          "Chad",
          "Hungary",
          "Bosnia and Herz",
          "Malawi",
          "Haiti",
          "Colombia",
          "Guinea",
          "Cyprus",
          "Costa Rica",
          "Guatemala",
          "Algeria",
          "Pakistan",
          "Congo, Republic",
          "Comoros",
          "Djibouti",
          "Chile",
          "Trinidad and To",
          "Zambia",
          "Dominican Repub",
          "Vanuatu",
          "Venezuela, Repu",
          "Benin",
          "West Bank and G",
          "Central Asia",
          "Cambodia",
          "Uruguay",
          "Papua New Guine",
          "Lithuania",
          "Malaysia",
          "Macedonia, form",
          "Latvia",
          "Korea, Republic",
          "Slovak Republic",
          "Rwanda",
          "Mauritius",
          "Nicaragua",
          "Philippines",
          "Nepal",
          "Mozambique",
          "Morocco",
          "Moldova",
          "Russian Federat",
          "Greece",
          "Sudan",
          "Eritrea",
          "Equatorial Guin",
          "Jamaica",
          "Indonesia",
          "Guyana"
         ],
         "xaxis": "x",
         "y": [
          8,
          7,
          6,
          6,
          4,
          4,
          4,
          4,
          4,
          4,
          4,
          4,
          4,
          3,
          3,
          3,
          3,
          3,
          3,
          3,
          3,
          3,
          3,
          2,
          2,
          2,
          2,
          2,
          2,
          2,
          2,
          2,
          2,
          2,
          2,
          2,
          2,
          2,
          2,
          1,
          1,
          1,
          1,
          1,
          1,
          1,
          1,
          1,
          1,
          1,
          1,
          1,
          1,
          1,
          1,
          1,
          1,
          1,
          1,
          1,
          1,
          1,
          1,
          1,
          1,
          1,
          1,
          1,
          1,
          1,
          1,
          1,
          1,
          1,
          1,
          1
         ],
         "yaxis": "y"
        },
        {
         "alignmentgroup": "True",
         "hovertemplate": "IEG_Outcome=Highly Unsatisfactory<br>country=%{x}<br>count=%{y}<extra></extra>",
         "legendgroup": "Highly Unsatisfactory",
         "marker": {
          "color": "#FF6692"
         },
         "name": "Highly Unsatisfactory",
         "offsetgroup": "Highly Unsatisfactory",
         "orientation": "v",
         "showlegend": true,
         "textposition": "outside",
         "texttemplate": "%{text:.2s}",
         "type": "bar",
         "x": [
          "Cameroon",
          "Turkey",
          "India",
          "Myanmar",
          "Algeria",
          "Yemen, Republic",
          "Central African",
          "Colombia",
          "Somalia",
          "Brazil",
          "Nigeria",
          "Senegal",
          "Argentina",
          "Bangladesh",
          "Indonesia",
          "Guinea",
          "Morocco",
          "Ukraine",
          "Sudan",
          "Peru",
          "Rwanda",
          "Tunisia",
          "Venezuela, Repu",
          "Poland",
          "Russian Federat",
          "Turkmenistan",
          "Afghanistan",
          "Caribbean",
          "Bulgaria",
          "Bosnia and Herz",
          "Madagascar",
          "Egypt, Arab Rep",
          "Equatorial Guin",
          "Ghana",
          "Congo, Democrat",
          "Dominican Repub",
          "Mexico",
          "Niger",
          "Nepal",
          "Mauritania",
          "Mozambique",
          "Pakistan",
          "Comoros",
          "Costa Rica",
          "Cote d'Ivoire",
          "Africa",
          "Togo",
          "Djibouti",
          "Zimbabwe",
          "Croatia",
          "China",
          "Vanuatu",
          "West Bank and G",
          "Burkina Faso",
          "Yugoslavia, for",
          "Chad",
          "Uzbekistan",
          "Burundi",
          "Timor-Leste",
          "Mali",
          "Sao Tome and Pr",
          "Malawi",
          "Macedonia, form",
          "Slovenia",
          "Lesotho",
          "Sierra Leone",
          "Lebanon",
          "Mauritius",
          "Philippines",
          "Moldova",
          "Gambia, The",
          "Tanzania",
          "Thailand",
          "Ecuador",
          "St. Kitts and N",
          "Guatemala",
          "Solomon Islands",
          "Kenya",
          "Kazakhstan",
          "Jordan",
          "Haiti",
          "Sri Lanka",
          "Guinea-Bissau"
         ],
         "xaxis": "x",
         "y": [
          5,
          5,
          5,
          4,
          4,
          4,
          4,
          4,
          4,
          3,
          3,
          3,
          3,
          3,
          3,
          3,
          3,
          2,
          2,
          2,
          2,
          2,
          2,
          2,
          2,
          2,
          2,
          2,
          2,
          2,
          2,
          2,
          2,
          2,
          2,
          2,
          2,
          2,
          2,
          2,
          2,
          2,
          1,
          1,
          1,
          1,
          1,
          1,
          1,
          1,
          1,
          1,
          1,
          1,
          1,
          1,
          1,
          1,
          1,
          1,
          1,
          1,
          1,
          1,
          1,
          1,
          1,
          1,
          1,
          1,
          1,
          1,
          1,
          1,
          1,
          1,
          1,
          1,
          1,
          1,
          1,
          1,
          1
         ],
         "yaxis": "y"
        },
        {
         "alignmentgroup": "True",
         "hovertemplate": "IEG_Outcome=Not Applicable<br>country=%{x}<br>count=%{y}<extra></extra>",
         "legendgroup": "Not Applicable",
         "marker": {
          "color": "#B6E880"
         },
         "name": "Not Applicable",
         "offsetgroup": "Not Applicable",
         "orientation": "v",
         "showlegend": true,
         "textposition": "outside",
         "texttemplate": "%{text:.2s}",
         "type": "bar",
         "x": [
          "Mexico",
          "Africa",
          "Brazil",
          "Yemen, Republic",
          "Mauritius",
          "Pakistan",
          "Ghana",
          "Egypt, Arab Rep"
         ],
         "xaxis": "x",
         "y": [
          2,
          1,
          1,
          1,
          1,
          1,
          1,
          1
         ],
         "yaxis": "y"
        },
        {
         "alignmentgroup": "True",
         "hovertemplate": "IEG_Outcome=Not Available<br>country=%{x}<br>count=%{y}<extra></extra>",
         "legendgroup": "Not Available",
         "marker": {
          "color": "#FF97FF"
         },
         "name": "Not Available",
         "offsetgroup": "Not Available",
         "orientation": "v",
         "showlegend": true,
         "textposition": "outside",
         "texttemplate": "%{text:.2s}",
         "type": "bar",
         "x": [
          "Argentina",
          "Turkey",
          "Brazil",
          "Uzbekistan",
          "Slovenia",
          "Indonesia",
          "Haiti",
          "Latvia"
         ],
         "xaxis": "x",
         "y": [
          2,
          1,
          1,
          1,
          1,
          1,
          1,
          1
         ],
         "yaxis": "y"
        }
       ],
       "layout": {
        "barmode": "relative",
        "height": 800,
        "legend": {
         "title": {
          "text": "IEG_Outcome"
         },
         "tracegroupgap": 0
        },
        "template": {
         "data": {
          "bar": [
           {
            "error_x": {
             "color": "#2a3f5f"
            },
            "error_y": {
             "color": "#2a3f5f"
            },
            "marker": {
             "line": {
              "color": "#E5ECF6",
              "width": 0.5
             }
            },
            "type": "bar"
           }
          ],
          "barpolar": [
           {
            "marker": {
             "line": {
              "color": "#E5ECF6",
              "width": 0.5
             }
            },
            "type": "barpolar"
           }
          ],
          "carpet": [
           {
            "aaxis": {
             "endlinecolor": "#2a3f5f",
             "gridcolor": "white",
             "linecolor": "white",
             "minorgridcolor": "white",
             "startlinecolor": "#2a3f5f"
            },
            "baxis": {
             "endlinecolor": "#2a3f5f",
             "gridcolor": "white",
             "linecolor": "white",
             "minorgridcolor": "white",
             "startlinecolor": "#2a3f5f"
            },
            "type": "carpet"
           }
          ],
          "choropleth": [
           {
            "colorbar": {
             "outlinewidth": 0,
             "ticks": ""
            },
            "type": "choropleth"
           }
          ],
          "contour": [
           {
            "colorbar": {
             "outlinewidth": 0,
             "ticks": ""
            },
            "colorscale": [
             [
              0,
              "#0d0887"
             ],
             [
              0.1111111111111111,
              "#46039f"
             ],
             [
              0.2222222222222222,
              "#7201a8"
             ],
             [
              0.3333333333333333,
              "#9c179e"
             ],
             [
              0.4444444444444444,
              "#bd3786"
             ],
             [
              0.5555555555555556,
              "#d8576b"
             ],
             [
              0.6666666666666666,
              "#ed7953"
             ],
             [
              0.7777777777777778,
              "#fb9f3a"
             ],
             [
              0.8888888888888888,
              "#fdca26"
             ],
             [
              1,
              "#f0f921"
             ]
            ],
            "type": "contour"
           }
          ],
          "contourcarpet": [
           {
            "colorbar": {
             "outlinewidth": 0,
             "ticks": ""
            },
            "type": "contourcarpet"
           }
          ],
          "heatmap": [
           {
            "colorbar": {
             "outlinewidth": 0,
             "ticks": ""
            },
            "colorscale": [
             [
              0,
              "#0d0887"
             ],
             [
              0.1111111111111111,
              "#46039f"
             ],
             [
              0.2222222222222222,
              "#7201a8"
             ],
             [
              0.3333333333333333,
              "#9c179e"
             ],
             [
              0.4444444444444444,
              "#bd3786"
             ],
             [
              0.5555555555555556,
              "#d8576b"
             ],
             [
              0.6666666666666666,
              "#ed7953"
             ],
             [
              0.7777777777777778,
              "#fb9f3a"
             ],
             [
              0.8888888888888888,
              "#fdca26"
             ],
             [
              1,
              "#f0f921"
             ]
            ],
            "type": "heatmap"
           }
          ],
          "heatmapgl": [
           {
            "colorbar": {
             "outlinewidth": 0,
             "ticks": ""
            },
            "colorscale": [
             [
              0,
              "#0d0887"
             ],
             [
              0.1111111111111111,
              "#46039f"
             ],
             [
              0.2222222222222222,
              "#7201a8"
             ],
             [
              0.3333333333333333,
              "#9c179e"
             ],
             [
              0.4444444444444444,
              "#bd3786"
             ],
             [
              0.5555555555555556,
              "#d8576b"
             ],
             [
              0.6666666666666666,
              "#ed7953"
             ],
             [
              0.7777777777777778,
              "#fb9f3a"
             ],
             [
              0.8888888888888888,
              "#fdca26"
             ],
             [
              1,
              "#f0f921"
             ]
            ],
            "type": "heatmapgl"
           }
          ],
          "histogram": [
           {
            "marker": {
             "colorbar": {
              "outlinewidth": 0,
              "ticks": ""
             }
            },
            "type": "histogram"
           }
          ],
          "histogram2d": [
           {
            "colorbar": {
             "outlinewidth": 0,
             "ticks": ""
            },
            "colorscale": [
             [
              0,
              "#0d0887"
             ],
             [
              0.1111111111111111,
              "#46039f"
             ],
             [
              0.2222222222222222,
              "#7201a8"
             ],
             [
              0.3333333333333333,
              "#9c179e"
             ],
             [
              0.4444444444444444,
              "#bd3786"
             ],
             [
              0.5555555555555556,
              "#d8576b"
             ],
             [
              0.6666666666666666,
              "#ed7953"
             ],
             [
              0.7777777777777778,
              "#fb9f3a"
             ],
             [
              0.8888888888888888,
              "#fdca26"
             ],
             [
              1,
              "#f0f921"
             ]
            ],
            "type": "histogram2d"
           }
          ],
          "histogram2dcontour": [
           {
            "colorbar": {
             "outlinewidth": 0,
             "ticks": ""
            },
            "colorscale": [
             [
              0,
              "#0d0887"
             ],
             [
              0.1111111111111111,
              "#46039f"
             ],
             [
              0.2222222222222222,
              "#7201a8"
             ],
             [
              0.3333333333333333,
              "#9c179e"
             ],
             [
              0.4444444444444444,
              "#bd3786"
             ],
             [
              0.5555555555555556,
              "#d8576b"
             ],
             [
              0.6666666666666666,
              "#ed7953"
             ],
             [
              0.7777777777777778,
              "#fb9f3a"
             ],
             [
              0.8888888888888888,
              "#fdca26"
             ],
             [
              1,
              "#f0f921"
             ]
            ],
            "type": "histogram2dcontour"
           }
          ],
          "mesh3d": [
           {
            "colorbar": {
             "outlinewidth": 0,
             "ticks": ""
            },
            "type": "mesh3d"
           }
          ],
          "parcoords": [
           {
            "line": {
             "colorbar": {
              "outlinewidth": 0,
              "ticks": ""
             }
            },
            "type": "parcoords"
           }
          ],
          "pie": [
           {
            "automargin": true,
            "type": "pie"
           }
          ],
          "scatter": [
           {
            "marker": {
             "colorbar": {
              "outlinewidth": 0,
              "ticks": ""
             }
            },
            "type": "scatter"
           }
          ],
          "scatter3d": [
           {
            "line": {
             "colorbar": {
              "outlinewidth": 0,
              "ticks": ""
             }
            },
            "marker": {
             "colorbar": {
              "outlinewidth": 0,
              "ticks": ""
             }
            },
            "type": "scatter3d"
           }
          ],
          "scattercarpet": [
           {
            "marker": {
             "colorbar": {
              "outlinewidth": 0,
              "ticks": ""
             }
            },
            "type": "scattercarpet"
           }
          ],
          "scattergeo": [
           {
            "marker": {
             "colorbar": {
              "outlinewidth": 0,
              "ticks": ""
             }
            },
            "type": "scattergeo"
           }
          ],
          "scattergl": [
           {
            "marker": {
             "colorbar": {
              "outlinewidth": 0,
              "ticks": ""
             }
            },
            "type": "scattergl"
           }
          ],
          "scattermapbox": [
           {
            "marker": {
             "colorbar": {
              "outlinewidth": 0,
              "ticks": ""
             }
            },
            "type": "scattermapbox"
           }
          ],
          "scatterpolar": [
           {
            "marker": {
             "colorbar": {
              "outlinewidth": 0,
              "ticks": ""
             }
            },
            "type": "scatterpolar"
           }
          ],
          "scatterpolargl": [
           {
            "marker": {
             "colorbar": {
              "outlinewidth": 0,
              "ticks": ""
             }
            },
            "type": "scatterpolargl"
           }
          ],
          "scatterternary": [
           {
            "marker": {
             "colorbar": {
              "outlinewidth": 0,
              "ticks": ""
             }
            },
            "type": "scatterternary"
           }
          ],
          "surface": [
           {
            "colorbar": {
             "outlinewidth": 0,
             "ticks": ""
            },
            "colorscale": [
             [
              0,
              "#0d0887"
             ],
             [
              0.1111111111111111,
              "#46039f"
             ],
             [
              0.2222222222222222,
              "#7201a8"
             ],
             [
              0.3333333333333333,
              "#9c179e"
             ],
             [
              0.4444444444444444,
              "#bd3786"
             ],
             [
              0.5555555555555556,
              "#d8576b"
             ],
             [
              0.6666666666666666,
              "#ed7953"
             ],
             [
              0.7777777777777778,
              "#fb9f3a"
             ],
             [
              0.8888888888888888,
              "#fdca26"
             ],
             [
              1,
              "#f0f921"
             ]
            ],
            "type": "surface"
           }
          ],
          "table": [
           {
            "cells": {
             "fill": {
              "color": "#EBF0F8"
             },
             "line": {
              "color": "white"
             }
            },
            "header": {
             "fill": {
              "color": "#C8D4E3"
             },
             "line": {
              "color": "white"
             }
            },
            "type": "table"
           }
          ]
         },
         "layout": {
          "annotationdefaults": {
           "arrowcolor": "#2a3f5f",
           "arrowhead": 0,
           "arrowwidth": 1
          },
          "autotypenumbers": "strict",
          "coloraxis": {
           "colorbar": {
            "outlinewidth": 0,
            "ticks": ""
           }
          },
          "colorscale": {
           "diverging": [
            [
             0,
             "#8e0152"
            ],
            [
             0.1,
             "#c51b7d"
            ],
            [
             0.2,
             "#de77ae"
            ],
            [
             0.3,
             "#f1b6da"
            ],
            [
             0.4,
             "#fde0ef"
            ],
            [
             0.5,
             "#f7f7f7"
            ],
            [
             0.6,
             "#e6f5d0"
            ],
            [
             0.7,
             "#b8e186"
            ],
            [
             0.8,
             "#7fbc41"
            ],
            [
             0.9,
             "#4d9221"
            ],
            [
             1,
             "#276419"
            ]
           ],
           "sequential": [
            [
             0,
             "#0d0887"
            ],
            [
             0.1111111111111111,
             "#46039f"
            ],
            [
             0.2222222222222222,
             "#7201a8"
            ],
            [
             0.3333333333333333,
             "#9c179e"
            ],
            [
             0.4444444444444444,
             "#bd3786"
            ],
            [
             0.5555555555555556,
             "#d8576b"
            ],
            [
             0.6666666666666666,
             "#ed7953"
            ],
            [
             0.7777777777777778,
             "#fb9f3a"
            ],
            [
             0.8888888888888888,
             "#fdca26"
            ],
            [
             1,
             "#f0f921"
            ]
           ],
           "sequentialminus": [
            [
             0,
             "#0d0887"
            ],
            [
             0.1111111111111111,
             "#46039f"
            ],
            [
             0.2222222222222222,
             "#7201a8"
            ],
            [
             0.3333333333333333,
             "#9c179e"
            ],
            [
             0.4444444444444444,
             "#bd3786"
            ],
            [
             0.5555555555555556,
             "#d8576b"
            ],
            [
             0.6666666666666666,
             "#ed7953"
            ],
            [
             0.7777777777777778,
             "#fb9f3a"
            ],
            [
             0.8888888888888888,
             "#fdca26"
            ],
            [
             1,
             "#f0f921"
            ]
           ]
          },
          "colorway": [
           "#636efa",
           "#EF553B",
           "#00cc96",
           "#ab63fa",
           "#FFA15A",
           "#19d3f3",
           "#FF6692",
           "#B6E880",
           "#FF97FF",
           "#FECB52"
          ],
          "font": {
           "color": "#2a3f5f"
          },
          "geo": {
           "bgcolor": "white",
           "lakecolor": "white",
           "landcolor": "#E5ECF6",
           "showlakes": true,
           "showland": true,
           "subunitcolor": "white"
          },
          "hoverlabel": {
           "align": "left"
          },
          "hovermode": "closest",
          "mapbox": {
           "style": "light"
          },
          "paper_bgcolor": "white",
          "plot_bgcolor": "#E5ECF6",
          "polar": {
           "angularaxis": {
            "gridcolor": "white",
            "linecolor": "white",
            "ticks": ""
           },
           "bgcolor": "#E5ECF6",
           "radialaxis": {
            "gridcolor": "white",
            "linecolor": "white",
            "ticks": ""
           }
          },
          "scene": {
           "xaxis": {
            "backgroundcolor": "#E5ECF6",
            "gridcolor": "white",
            "gridwidth": 2,
            "linecolor": "white",
            "showbackground": true,
            "ticks": "",
            "zerolinecolor": "white"
           },
           "yaxis": {
            "backgroundcolor": "#E5ECF6",
            "gridcolor": "white",
            "gridwidth": 2,
            "linecolor": "white",
            "showbackground": true,
            "ticks": "",
            "zerolinecolor": "white"
           },
           "zaxis": {
            "backgroundcolor": "#E5ECF6",
            "gridcolor": "white",
            "gridwidth": 2,
            "linecolor": "white",
            "showbackground": true,
            "ticks": "",
            "zerolinecolor": "white"
           }
          },
          "shapedefaults": {
           "line": {
            "color": "#2a3f5f"
           }
          },
          "ternary": {
           "aaxis": {
            "gridcolor": "white",
            "linecolor": "white",
            "ticks": ""
           },
           "baxis": {
            "gridcolor": "white",
            "linecolor": "white",
            "ticks": ""
           },
           "bgcolor": "#E5ECF6",
           "caxis": {
            "gridcolor": "white",
            "linecolor": "white",
            "ticks": ""
           }
          },
          "title": {
           "x": 0.05
          },
          "xaxis": {
           "automargin": true,
           "gridcolor": "white",
           "linecolor": "white",
           "ticks": "",
           "title": {
            "standoff": 15
           },
           "zerolinecolor": "white",
           "zerolinewidth": 2
          },
          "yaxis": {
           "automargin": true,
           "gridcolor": "white",
           "linecolor": "white",
           "ticks": "",
           "title": {
            "standoff": 15
           },
           "zerolinecolor": "white",
           "zerolinewidth": 2
          }
         }
        },
        "title": {
         "text": "World bank Project"
        },
        "uniformtext": {
         "minsize": 8,
         "mode": "hide"
        },
        "width": 2000,
        "xaxis": {
         "anchor": "y",
         "domain": [
          0,
          1
         ],
         "title": {
          "text": "country"
         }
        },
        "yaxis": {
         "anchor": "x",
         "domain": [
          0,
          1
         ],
         "title": {
          "text": "count"
         }
        }
       }
      },
      "text/html": [
       "<div>                            <div id=\"211a557d-60fc-4248-bac4-679d33d9532f\" class=\"plotly-graph-div\" style=\"height:800px; width:2000px;\"></div>            <script type=\"text/javascript\">                require([\"plotly\"], function(Plotly) {                    window.PLOTLYENV=window.PLOTLYENV || {};                                    if (document.getElementById(\"211a557d-60fc-4248-bac4-679d33d9532f\")) {                    Plotly.newPlot(                        \"211a557d-60fc-4248-bac4-679d33d9532f\",                        [{\"alignmentgroup\": \"True\", \"hovertemplate\": \"IEG_Outcome=Satisfactory<br>country=%{x}<br>count=%{y}<extra></extra>\", \"legendgroup\": \"Satisfactory\", \"marker\": {\"color\": \"#636efa\"}, \"name\": \"Satisfactory\", \"offsetgroup\": \"Satisfactory\", \"orientation\": \"v\", \"showlegend\": true, \"textposition\": \"outside\", \"texttemplate\": \"%{text:.2s}\", \"type\": \"bar\", \"x\": [\"India\", \"Indonesia\", \"China\", \"Brazil\", \"Pakistan\", \"Mexico\", \"Philippines\", \"Colombia\", \"Turkey\", \"Bangladesh\", \"Korea, Republic\", \"Thailand\", \"Morocco\", \"Tunisia\", \"Yemen, Republic\", \"Ghana\", \"Tanzania\", \"Malaysia\", \"Argentina\", \"Egypt, Arab Rep\", \"Kenya\", \"Romania\", \"Senegal\", \"Sri Lanka\", \"Cote d'Ivoire\", \"Yugoslavia, for\", \"Jordan\", \"Malawi\", \"Uganda\", \"Peru\", \"Bolivia\", \"Madagascar\", \"Nepal\", \"Nigeria\", \"Ethiopia\", \"Vietnam\", \"Ecuador\", \"Mozambique\", \"Zambia\", \"Burkina Faso\", \"Chile\", \"Uruguay\", \"Jamaica\", \"Cameroon\", \"Benin\", \"Honduras\", \"Bosnia and Herz\", \"Albania\", \"Rwanda\", \"Mali\", \"Nicaragua\", \"Niger\", \"Guinea\", \"Mauritania\", \"Russian Federat\", \"Burundi\", \"Hungary\", \"Georgia\", \"Paraguay\", \"Mauritius\", \"Costa Rica\", \"Bulgaria\", \"Papua New Guine\", \"Poland\", \"Sudan\", \"Armenia\", \"Guatemala\", \"Botswana\", \"Algeria\", \"Kyrgyz Republic\", \"Zimbabwe\", \"Panama\", \"Guyana\", \"El Salvador\", \"Kazakhstan\", \"Somalia\", \"Togo\", \"Ukraine\", \"Myanmar\", \"Sierra Leone\", \"Congo, Democrat\", \"Dominican Repub\", \"Portugal\", \"Moldova\", \"Cyprus\", \"Liberia\", \"Serbia\", \"Macedonia, form\", \"Lao People's De\", \"Tajikistan\", \"Iran, Islamic R\", \"Lesotho\", \"Chad\", \"Afghanistan\", \"Greece\", \"Haiti\", \"Cambodia\", \"Cabo Verde\", \"Africa\", \"Mongolia\", \"Trinidad and To\", \"Bhutan\", \"West Bank and G\", \"Gambia, The\", \"Venezuela, Repu\", \"Central African\", \"Guinea-Bissau\", \"Latvia\", \"Azerbaijan\", \"Oman\", \"Lithuania\", \"Singapore\", \"Spain\", \"Barbados\", \"Croatia\", \"Swaziland\", \"Lebanon\", \"Kosovo\", \"Fiji\", \"Ireland\", \"Comoros\", \"Taiwan, China\", \"Djibouti\", \"Angola\", \"Israel\", \"Caribbean\", \"Slovenia\", \"Eritrea\", \"Congo, Republic\", \"Syrian Arab Rep\", \"Iraq\", \"Solomon Islands\", \"Estonia\", \"Belarus\", \"St. Lucia\", \"Maldives\", \"Samoa\", \"Belize\", \"Sao Tome and Pr\", \"Czech Republic\", \"Dominica\", \"Timor-Leste\", \"Finland\", \"Gabon\", \"St. Vincent and\", \"Grenada\", \"Seychelles\", \"Slovak Republic\", \"Uzbekistan\", \"Bahamas, The\", \"Western Africa\", \"Iceland\", \"Tonga\", \"Montenegro\", \"South Africa\", \"South Sudan\", \"St. Kitts and N\", \"Central America\", \"World\", \"Vanuatu\", \"OECS Countries\", \"New Zealand\", \"Namibia\", \"Red Sea and Gul\", \"Middle East and\", \"Europe and Cent\", \"Equatorial Guin\", \"South Eastern E\"], \"xaxis\": \"x\", \"y\": [296, 257, 230, 201, 138, 132, 130, 126, 117, 116, 114, 106, 104, 102, 85, 78, 74, 72, 71, 70, 69, 68, 68, 64, 63, 60, 59, 57, 53, 53, 52, 50, 49, 48, 48, 47, 46, 45, 45, 44, 42, 42, 42, 41, 41, 40, 40, 40, 38, 37, 37, 36, 35, 34, 34, 33, 33, 30, 30, 29, 28, 28, 28, 27, 27, 26, 25, 24, 23, 23, 23, 23, 23, 23, 22, 22, 22, 22, 21, 21, 20, 20, 19, 19, 19, 19, 18, 18, 18, 17, 17, 16, 16, 16, 15, 15, 15, 15, 14, 14, 14, 13, 12, 12, 12, 12, 12, 12, 11, 10, 10, 10, 10, 10, 10, 10, 9, 8, 8, 8, 8, 8, 7, 7, 7, 7, 7, 7, 7, 7, 6, 6, 6, 6, 6, 6, 6, 5, 4, 4, 4, 4, 4, 4, 4, 4, 4, 4, 3, 3, 3, 3, 3, 3, 2, 2, 2, 2, 1, 1, 1, 1, 1, 1, 1, 1, 1, 1], \"yaxis\": \"y\"}, {\"alignmentgroup\": \"True\", \"hovertemplate\": \"IEG_Outcome=Unsatisfactory<br>country=%{x}<br>count=%{y}<extra></extra>\", \"legendgroup\": \"Unsatisfactory\", \"marker\": {\"color\": \"#EF553B\"}, \"name\": \"Unsatisfactory\", \"offsetgroup\": \"Unsatisfactory\", \"orientation\": \"v\", \"showlegend\": true, \"textposition\": \"outside\", \"texttemplate\": \"%{text:.2s}\", \"type\": \"bar\", \"x\": [\"India\", \"Kenya\", \"Brazil\", \"Indonesia\", \"Nigeria\", \"Tanzania\", \"Congo, Democrat\", \"Bangladesh\", \"Pakistan\", \"Philippines\", \"Mexico\", \"Madagascar\", \"Turkey\", \"Senegal\", \"Yemen, Republic\", \"Zambia\", \"Argentina\", \"Cameroon\", \"Algeria\", \"Mali\", \"Nepal\", \"Sudan\", \"Peru\", \"Malawi\", \"Morocco\", \"Colombia\", \"Cote d'Ivoire\", \"Uganda\", \"Egypt, Arab Rep\", \"Niger\", \"Jamaica\", \"Guinea\", \"Sri Lanka\", \"Ghana\", \"Ethiopia\", \"Tunisia\", \"Togo\", \"Romania\", \"Rwanda\", \"Chad\", \"Ecuador\", \"Bolivia\", \"Haiti\", \"China\", \"Lao People's De\", \"Mauritania\", \"Papua New Guine\", \"Congo, Republic\", \"Malaysia\", \"Liberia\", \"Jordan\", \"Yugoslavia, for\", \"Panama\", \"Venezuela, Repu\", \"Paraguay\", \"Russian Federat\", \"Honduras\", \"Somalia\", \"Thailand\", \"Sierra Leone\", \"Dominican Repub\", \"Burundi\", \"Central African\", \"Iran, Islamic R\", \"Korea, Republic\", \"Burkina Faso\", \"Guyana\", \"Lebanon\", \"Gambia, The\", \"Benin\", \"Africa\", \"Albania\", \"Cambodia\", \"Ukraine\", \"Syrian Arab Rep\", \"Portugal\", \"Myanmar\", \"Lesotho\", \"Guinea-Bissau\", \"Mozambique\", \"Chile\", \"Djibouti\", \"Comoros\", \"Afghanistan\", \"West Bank and G\", \"Uruguay\", \"Trinidad and To\", \"Cyprus\", \"Nicaragua\", \"Mauritius\", \"Zimbabwe\", \"Timor-Leste\", \"Equatorial Guin\", \"Gabon\", \"Guatemala\", \"Costa Rica\", \"Botswana\", \"Kyrgyz Republic\", \"Bulgaria\", \"Caribbean\", \"Solomon Islands\", \"Poland\", \"Bosnia and Herz\", \"Angola\", \"Vietnam\", \"Kazakhstan\", \"Hungary\", \"Tajikistan\", \"Sao Tome and Pr\", \"Georgia\", \"Slovak Republic\", \"South Sudan\", \"Vanuatu\", \"Uzbekistan\", \"Tonga\", \"Samoa\", \"Lithuania\", \"Eastern Africa\", \"El Salvador\", \"Fiji\", \"Croatia\", \"Moldova\", \"Azerbaijan\", \"Mongolia\", \"Central Asia\", \"Barbados\", \"Western Africa\", \"Belarus\", \"Bhutan\", \"Belize\", \"Cabo Verde\", \"Swaziland\", \"Maldives\", \"Kosovo\", \"Montenegro\", \"Middle East and\", \"Grenada\", \"Greece\", \"St. Lucia\", \"Finland\", \"Eritrea\", \"Spain\"], \"xaxis\": \"x\", \"y\": [94, 71, 70, 64, 55, 54, 51, 47, 46, 43, 38, 37, 37, 34, 32, 31, 31, 30, 29, 29, 28, 28, 28, 27, 26, 25, 25, 24, 24, 23, 23, 23, 23, 23, 23, 21, 20, 19, 19, 19, 18, 18, 17, 16, 16, 16, 16, 16, 15, 15, 15, 14, 14, 13, 13, 12, 12, 12, 12, 11, 11, 11, 11, 10, 10, 10, 9, 9, 9, 9, 8, 8, 8, 8, 8, 7, 7, 7, 7, 6, 6, 6, 5, 5, 5, 5, 5, 5, 4, 4, 4, 4, 4, 4, 4, 4, 4, 4, 3, 3, 3, 3, 3, 3, 3, 3, 3, 3, 3, 3, 2, 2, 2, 2, 2, 2, 2, 2, 2, 2, 2, 2, 2, 2, 1, 1, 1, 1, 1, 1, 1, 1, 1, 1, 1, 1, 1, 1, 1, 1, 1, 1], \"yaxis\": \"y\"}, {\"alignmentgroup\": \"True\", \"hovertemplate\": \"IEG_Outcome=Moderately Satisfactory<br>country=%{x}<br>count=%{y}<extra></extra>\", \"legendgroup\": \"Moderately Satisfactory\", \"marker\": {\"color\": \"#00cc96\"}, \"name\": \"Moderately Satisfactory\", \"offsetgroup\": \"Moderately Satisfactory\", \"orientation\": \"v\", \"showlegend\": true, \"textposition\": \"outside\", \"texttemplate\": \"%{text:.2s}\", \"type\": \"bar\", \"x\": [\"India\", \"Brazil\", \"China\", \"Indonesia\", \"Pakistan\", \"Ghana\", \"Argentina\", \"Mexico\", \"Bangladesh\", \"Colombia\", \"Vietnam\", \"Uganda\", \"Mozambique\", \"Tanzania\", \"Burkina Faso\", \"Morocco\", \"Ethiopia\", \"Albania\", \"Armenia\", \"Turkey\", \"Afghanistan\", \"Yemen, Republic\", \"Nigeria\", \"Tunisia\", \"Senegal\", \"Sri Lanka\", \"Egypt, Arab Rep\", \"Malawi\", \"Madagascar\", \"Honduras\", \"Georgia\", \"Lao People's De\", \"Mali\", \"Nepal\", \"Bolivia\", \"Jordan\", \"Bosnia and Herz\", \"Croatia\", \"Ecuador\", \"Zambia\", \"Romania\", \"Burundi\", \"Philippines\", \"Sierra Leone\", \"Macedonia, form\", \"Kenya\", \"Lesotho\", \"Mongolia\", \"Africa\", \"West Bank and G\", \"Jamaica\", \"Guinea\", \"Nicaragua\", \"Guatemala\", \"Tajikistan\", \"Moldova\", \"Poland\", \"Cambodia\", \"Uruguay\", \"Peru\", \"Rwanda\", \"Chile\", \"Dominican Repub\", \"Kosovo\", \"Russian Federat\", \"Azerbaijan\", \"Kyrgyz Republic\", \"Niger\", \"Bulgaria\", \"Algeria\", \"Mauritania\", \"Benin\", \"Zimbabwe\", \"Serbia\", \"Sudan\", \"Haiti\", \"Gambia, The\", \"Ukraine\", \"Timor-Leste\", \"Chad\", \"Cameroon\", \"Costa Rica\", \"Cote d'Ivoire\", \"Iraq\", \"Congo, Democrat\", \"Togo\", \"Cabo Verde\", \"Hungary\", \"Panama\", \"Lithuania\", \"Uzbekistan\", \"Guinea-Bissau\", \"El Salvador\", \"Thailand\", \"Comoros\", \"Kazakhstan\", \"St. Lucia\", \"Venezuela, Repu\", \"Samoa\", \"Bhutan\", \"Liberia\", \"Central African\", \"Guyana\", \"Congo, Republic\", \"South Sudan\", \"Eritrea\", \"Grenada\", \"South Africa\", \"Sao Tome and Pr\", \"Iran, Islamic R\", \"Papua New Guine\", \"OECS Countries\", \"Mauritius\", \"Djibouti\", \"Gabon\", \"Tonga\", \"Angola\", \"Paraguay\", \"Latvia\", \"Latin America\", \"Slovak Republic\", \"Caribbean\", \"Myanmar\", \"Lebanon\", \"Barbados\", \"Malaysia\", \"Maldives\", \"Dominica\", \"Montenegro\", \"St. Vincent and\", \"Solomon Islands\", \"Somalia\", \"Korea, Republic\", \"Botswana\", \"East Asia and P\", \"Czech Republic\", \"Fiji\", \"Andean Countrie\", \"Belize\", \"Cyprus\", \"Trinidad and To\", \"Belarus\", \"World\", \"Western Africa\", \"Bahamas, The\", \"Central America\", \"Seychelles\", \"Oman\", \"Slovenia\", \"Europe and Cent\", \"Estonia\", \"Equatorial Guin\", \"St. Kitts and N\", \"South Eastern E\"], \"xaxis\": \"x\", \"y\": [90, 86, 74, 65, 51, 45, 44, 43, 42, 40, 39, 37, 33, 33, 32, 32, 31, 30, 30, 29, 29, 29, 28, 27, 27, 26, 26, 26, 25, 24, 24, 23, 23, 22, 22, 20, 20, 20, 20, 19, 19, 19, 19, 19, 19, 18, 18, 18, 18, 17, 17, 16, 16, 16, 16, 16, 15, 15, 15, 14, 14, 14, 14, 14, 14, 14, 14, 13, 13, 13, 13, 12, 12, 10, 10, 10, 10, 10, 10, 10, 9, 9, 9, 9, 9, 8, 8, 8, 8, 7, 7, 7, 7, 7, 7, 6, 6, 6, 6, 6, 5, 5, 5, 5, 5, 5, 5, 5, 5, 5, 5, 5, 5, 4, 4, 4, 4, 4, 4, 4, 3, 3, 3, 3, 3, 3, 3, 3, 3, 2, 2, 2, 2, 2, 2, 2, 2, 1, 1, 1, 1, 1, 1, 1, 1, 1, 1, 1, 1, 1, 1, 1, 1, 1], \"yaxis\": \"y\"}, {\"alignmentgroup\": \"True\", \"hovertemplate\": \"IEG_Outcome=Moderately Unsatisfactory<br>country=%{x}<br>count=%{y}<extra></extra>\", \"legendgroup\": \"Moderately Unsatisfactory\", \"marker\": {\"color\": \"#ab63fa\"}, \"name\": \"Moderately Unsatisfactory\", \"offsetgroup\": \"Moderately Unsatisfactory\", \"orientation\": \"v\", \"showlegend\": true, \"textposition\": \"outside\", \"texttemplate\": \"%{text:.2s}\", \"type\": \"bar\", \"x\": [\"Indonesia\", \"Ghana\", \"Brazil\", \"India\", \"Uganda\", \"Mexico\", \"Tanzania\", \"Pakistan\", \"Philippines\", \"Bolivia\", \"Bangladesh\", \"Nigeria\", \"Ethiopia\", \"Yemen, Republic\", \"Morocco\", \"Russian Federat\", \"China\", \"Croatia\", \"Burkina Faso\", \"Benin\", \"Madagascar\", \"Kenya\", \"Malawi\", \"Argentina\", \"Turkey\", \"Timor-Leste\", \"Mali\", \"Zambia\", \"Africa\", \"Albania\", \"Sri Lanka\", \"Honduras\", \"Colombia\", \"Poland\", \"Tunisia\", \"Georgia\", \"Cote d'Ivoire\", \"Vietnam\", \"Burundi\", \"Romania\", \"Niger\", \"Guinea\", \"Senegal\", \"Kyrgyz Republic\", \"Ecuador\", \"Nepal\", \"Mozambique\", \"Congo, Republic\", \"Jamaica\", \"Jordan\", \"Iraq\", \"Haiti\", \"Central African\", \"West Bank and G\", \"Guatemala\", \"Lesotho\", \"Cameroon\", \"Macedonia, form\", \"Azerbaijan\", \"Paraguay\", \"Chad\", \"South Sudan\", \"Moldova\", \"Egypt, Arab Rep\", \"Bulgaria\", \"Guinea-Bissau\", \"Peru\", \"Hungary\", \"Mauritania\", \"Gambia, The\", \"Panama\", \"Nicaragua\", \"Rwanda\", \"Tajikistan\", \"Eritrea\", \"St. Lucia\", \"Djibouti\", \"Afghanistan\", \"Bosnia and Herz\", \"Cambodia\", \"Lebanon\", \"Uzbekistan\", \"Bhutan\", \"Armenia\", \"Angola\", \"Sierra Leone\", \"Trinidad and To\", \"Iran, Islamic R\", \"Thailand\", \"El Salvador\", \"Gabon\", \"Montenegro\", \"Serbia\", \"Seychelles\", \"Uruguay\", \"Portugal\", \"Sudan\", \"Venezuela, Repu\", \"Ukraine\", \"Caribbean\", \"Cabo Verde\", \"Lao People's De\", \"Botswana\", \"Lithuania\", \"Maldives\", \"Dominica\", \"Papua New Guine\", \"Comoros\", \"Belize\", \"Namibia\", \"Mekong\", \"Mauritius\", \"Costa Rica\", \"Congo, Democrat\", \"Aral Sea\", \"Zimbabwe\", \"Togo\", \"Algeria\", \"Turkmenistan\", \"Belarus\", \"Barbados\", \"Chile\", \"Central Asia\", \"Central America\", \"Bahamas, The\", \"Malaysia\", \"Sao Tome and Pr\", \"Liberia\", \"Kosovo\", \"Mongolia\", \"Korea, Republic\", \"Grenada\", \"St. Vincent and\", \"Equatorial Guin\", \"St. Kitts and N\", \"Kiribati\", \"Solomon Islands\", \"Kazakhstan\", \"Guyana\"], \"xaxis\": \"x\", \"y\": [44, 34, 25, 23, 21, 20, 19, 17, 16, 16, 16, 15, 15, 14, 14, 14, 13, 13, 13, 13, 13, 13, 13, 12, 11, 11, 11, 11, 10, 10, 10, 10, 10, 9, 9, 9, 8, 8, 7, 7, 7, 7, 7, 7, 7, 7, 6, 6, 6, 6, 6, 6, 6, 6, 6, 6, 6, 6, 6, 5, 5, 5, 5, 5, 5, 5, 5, 5, 5, 5, 4, 4, 4, 4, 4, 4, 4, 4, 4, 4, 4, 3, 3, 3, 3, 3, 3, 3, 3, 3, 3, 3, 3, 2, 2, 2, 2, 2, 2, 2, 2, 2, 2, 2, 2, 2, 2, 2, 2, 2, 2, 2, 1, 1, 1, 1, 1, 1, 1, 1, 1, 1, 1, 1, 1, 1, 1, 1, 1, 1, 1, 1, 1, 1, 1, 1, 1, 1, 1], \"yaxis\": \"y\"}, {\"alignmentgroup\": \"True\", \"hovertemplate\": \"IEG_Outcome=Highly Satisfactory<br>country=%{x}<br>count=%{y}<extra></extra>\", \"legendgroup\": \"Highly Satisfactory\", \"marker\": {\"color\": \"#FFA15A\"}, \"name\": \"Highly Satisfactory\", \"offsetgroup\": \"Highly Satisfactory\", \"orientation\": \"v\", \"showlegend\": true, \"textposition\": \"outside\", \"texttemplate\": \"%{text:.2s}\", \"type\": \"bar\", \"x\": [\"China\", \"India\", \"Chile\", \"Mexico\", \"Brazil\", \"Indonesia\", \"Korea, Republic\", \"Thailand\", \"Bangladesh\", \"Latvia\", \"Argentina\", \"Poland\", \"Hungary\", \"Peru\", \"Romania\", \"Mauritius\", \"Kyrgyz Republic\", \"Turkey\", \"Jordan\", \"Senegal\", \"Macedonia, form\", \"Armenia\", \"Colombia\", \"Lao People's De\", \"Estonia\", \"Benin\", \"Morocco\", \"Pakistan\", \"Nicaragua\", \"Yemen, Republic\", \"Sri Lanka\", \"Philippines\", \"Vietnam\", \"Bosnia and Herz\", \"West Bank and G\", \"Croatia\", \"Maldives\", \"Ghana\", \"Mali\", \"Egypt, Arab Rep\", \"Rwanda\", \"Serbia\", \"Ukraine\", \"Russian Federat\", \"Slovak Republic\", \"Tanzania\", \"Uganda\", \"Burkina Faso\", \"Honduras\", \"Bulgaria\", \"Bolivia\", \"Madagascar\", \"Malawi\", \"Dominican Repub\", \"El Salvador\", \"Ethiopia\", \"Guinea\", \"Nigeria\", \"Niger\", \"Africa\", \"Mozambique\", \"Panama\", \"Costa Rica\", \"Albania\", \"Tunisia\", \"Czech Republic\", \"Togo\", \"Cyprus\", \"Algeria\", \"Belize\", \"Azerbaijan\", \"Caribbean\", \"Burundi\", \"Uruguay\", \"Cambodia\", \"Cabo Verde\", \"Mauritania\", \"Malaysia\", \"Lesotho\", \"Latin America\", \"Papua New Guine\", \"Myanmar\", \"Portugal\", \"Moldova\", \"Ecuador\", \"Georgia\", \"Solomon Islands\", \"Kazakhstan\", \"South Africa\", \"Haiti\"], \"xaxis\": \"x\", \"y\": [35, 19, 15, 14, 13, 12, 9, 8, 8, 8, 8, 8, 7, 7, 7, 7, 6, 6, 6, 6, 6, 6, 5, 5, 5, 5, 4, 4, 4, 4, 4, 3, 3, 3, 3, 3, 3, 3, 3, 3, 2, 2, 2, 2, 2, 2, 2, 2, 2, 2, 2, 2, 2, 2, 2, 2, 2, 2, 2, 2, 2, 2, 1, 1, 1, 1, 1, 1, 1, 1, 1, 1, 1, 1, 1, 1, 1, 1, 1, 1, 1, 1, 1, 1, 1, 1, 1, 1, 1, 1], \"yaxis\": \"y\"}, {\"alignmentgroup\": \"True\", \"hovertemplate\": \"IEG_Outcome=Not Rated<br>country=%{x}<br>count=%{y}<extra></extra>\", \"legendgroup\": \"Not Rated\", \"marker\": {\"color\": \"#19d3f3\"}, \"name\": \"Not Rated\", \"offsetgroup\": \"Not Rated\", \"orientation\": \"v\", \"showlegend\": true, \"textposition\": \"outside\", \"texttemplate\": \"%{text:.2s}\", \"type\": \"bar\", \"x\": [\"Mexico\", \"Yugoslavia, for\", \"Somalia\", \"Brazil\", \"Ecuador\", \"Egypt, Arab Rep\", \"El Salvador\", \"Argentina\", \"Yemen, Republic\", \"Bangladesh\", \"Uganda\", \"Congo, Democrat\", \"Jordan\", \"Sri Lanka\", \"Ukraine\", \"China\", \"Afghanistan\", \"Paraguay\", \"Panama\", \"Portugal\", \"India\", \"Syrian Arab Rep\", \"Ghana\", \"Tunisia\", \"Zimbabwe\", \"Turkey\", \"Peru\", \"Chad\", \"Hungary\", \"Bosnia and Herz\", \"Malawi\", \"Haiti\", \"Colombia\", \"Guinea\", \"Cyprus\", \"Costa Rica\", \"Guatemala\", \"Algeria\", \"Pakistan\", \"Congo, Republic\", \"Comoros\", \"Djibouti\", \"Chile\", \"Trinidad and To\", \"Zambia\", \"Dominican Repub\", \"Vanuatu\", \"Venezuela, Repu\", \"Benin\", \"West Bank and G\", \"Central Asia\", \"Cambodia\", \"Uruguay\", \"Papua New Guine\", \"Lithuania\", \"Malaysia\", \"Macedonia, form\", \"Latvia\", \"Korea, Republic\", \"Slovak Republic\", \"Rwanda\", \"Mauritius\", \"Nicaragua\", \"Philippines\", \"Nepal\", \"Mozambique\", \"Morocco\", \"Moldova\", \"Russian Federat\", \"Greece\", \"Sudan\", \"Eritrea\", \"Equatorial Guin\", \"Jamaica\", \"Indonesia\", \"Guyana\"], \"xaxis\": \"x\", \"y\": [8, 7, 6, 6, 4, 4, 4, 4, 4, 4, 4, 4, 4, 3, 3, 3, 3, 3, 3, 3, 3, 3, 3, 2, 2, 2, 2, 2, 2, 2, 2, 2, 2, 2, 2, 2, 2, 2, 2, 1, 1, 1, 1, 1, 1, 1, 1, 1, 1, 1, 1, 1, 1, 1, 1, 1, 1, 1, 1, 1, 1, 1, 1, 1, 1, 1, 1, 1, 1, 1, 1, 1, 1, 1, 1, 1], \"yaxis\": \"y\"}, {\"alignmentgroup\": \"True\", \"hovertemplate\": \"IEG_Outcome=Highly Unsatisfactory<br>country=%{x}<br>count=%{y}<extra></extra>\", \"legendgroup\": \"Highly Unsatisfactory\", \"marker\": {\"color\": \"#FF6692\"}, \"name\": \"Highly Unsatisfactory\", \"offsetgroup\": \"Highly Unsatisfactory\", \"orientation\": \"v\", \"showlegend\": true, \"textposition\": \"outside\", \"texttemplate\": \"%{text:.2s}\", \"type\": \"bar\", \"x\": [\"Cameroon\", \"Turkey\", \"India\", \"Myanmar\", \"Algeria\", \"Yemen, Republic\", \"Central African\", \"Colombia\", \"Somalia\", \"Brazil\", \"Nigeria\", \"Senegal\", \"Argentina\", \"Bangladesh\", \"Indonesia\", \"Guinea\", \"Morocco\", \"Ukraine\", \"Sudan\", \"Peru\", \"Rwanda\", \"Tunisia\", \"Venezuela, Repu\", \"Poland\", \"Russian Federat\", \"Turkmenistan\", \"Afghanistan\", \"Caribbean\", \"Bulgaria\", \"Bosnia and Herz\", \"Madagascar\", \"Egypt, Arab Rep\", \"Equatorial Guin\", \"Ghana\", \"Congo, Democrat\", \"Dominican Repub\", \"Mexico\", \"Niger\", \"Nepal\", \"Mauritania\", \"Mozambique\", \"Pakistan\", \"Comoros\", \"Costa Rica\", \"Cote d'Ivoire\", \"Africa\", \"Togo\", \"Djibouti\", \"Zimbabwe\", \"Croatia\", \"China\", \"Vanuatu\", \"West Bank and G\", \"Burkina Faso\", \"Yugoslavia, for\", \"Chad\", \"Uzbekistan\", \"Burundi\", \"Timor-Leste\", \"Mali\", \"Sao Tome and Pr\", \"Malawi\", \"Macedonia, form\", \"Slovenia\", \"Lesotho\", \"Sierra Leone\", \"Lebanon\", \"Mauritius\", \"Philippines\", \"Moldova\", \"Gambia, The\", \"Tanzania\", \"Thailand\", \"Ecuador\", \"St. Kitts and N\", \"Guatemala\", \"Solomon Islands\", \"Kenya\", \"Kazakhstan\", \"Jordan\", \"Haiti\", \"Sri Lanka\", \"Guinea-Bissau\"], \"xaxis\": \"x\", \"y\": [5, 5, 5, 4, 4, 4, 4, 4, 4, 3, 3, 3, 3, 3, 3, 3, 3, 2, 2, 2, 2, 2, 2, 2, 2, 2, 2, 2, 2, 2, 2, 2, 2, 2, 2, 2, 2, 2, 2, 2, 2, 2, 1, 1, 1, 1, 1, 1, 1, 1, 1, 1, 1, 1, 1, 1, 1, 1, 1, 1, 1, 1, 1, 1, 1, 1, 1, 1, 1, 1, 1, 1, 1, 1, 1, 1, 1, 1, 1, 1, 1, 1, 1], \"yaxis\": \"y\"}, {\"alignmentgroup\": \"True\", \"hovertemplate\": \"IEG_Outcome=Not Applicable<br>country=%{x}<br>count=%{y}<extra></extra>\", \"legendgroup\": \"Not Applicable\", \"marker\": {\"color\": \"#B6E880\"}, \"name\": \"Not Applicable\", \"offsetgroup\": \"Not Applicable\", \"orientation\": \"v\", \"showlegend\": true, \"textposition\": \"outside\", \"texttemplate\": \"%{text:.2s}\", \"type\": \"bar\", \"x\": [\"Mexico\", \"Africa\", \"Brazil\", \"Yemen, Republic\", \"Mauritius\", \"Pakistan\", \"Ghana\", \"Egypt, Arab Rep\"], \"xaxis\": \"x\", \"y\": [2, 1, 1, 1, 1, 1, 1, 1], \"yaxis\": \"y\"}, {\"alignmentgroup\": \"True\", \"hovertemplate\": \"IEG_Outcome=Not Available<br>country=%{x}<br>count=%{y}<extra></extra>\", \"legendgroup\": \"Not Available\", \"marker\": {\"color\": \"#FF97FF\"}, \"name\": \"Not Available\", \"offsetgroup\": \"Not Available\", \"orientation\": \"v\", \"showlegend\": true, \"textposition\": \"outside\", \"texttemplate\": \"%{text:.2s}\", \"type\": \"bar\", \"x\": [\"Argentina\", \"Turkey\", \"Brazil\", \"Uzbekistan\", \"Slovenia\", \"Indonesia\", \"Haiti\", \"Latvia\"], \"xaxis\": \"x\", \"y\": [2, 1, 1, 1, 1, 1, 1, 1], \"yaxis\": \"y\"}],                        {\"barmode\": \"relative\", \"height\": 800, \"legend\": {\"title\": {\"text\": \"IEG_Outcome\"}, \"tracegroupgap\": 0}, \"template\": {\"data\": {\"bar\": [{\"error_x\": {\"color\": \"#2a3f5f\"}, \"error_y\": {\"color\": \"#2a3f5f\"}, \"marker\": {\"line\": {\"color\": \"#E5ECF6\", \"width\": 0.5}}, \"type\": \"bar\"}], \"barpolar\": [{\"marker\": {\"line\": {\"color\": \"#E5ECF6\", \"width\": 0.5}}, \"type\": \"barpolar\"}], \"carpet\": [{\"aaxis\": {\"endlinecolor\": \"#2a3f5f\", \"gridcolor\": \"white\", \"linecolor\": \"white\", \"minorgridcolor\": \"white\", \"startlinecolor\": \"#2a3f5f\"}, \"baxis\": {\"endlinecolor\": \"#2a3f5f\", \"gridcolor\": \"white\", \"linecolor\": \"white\", \"minorgridcolor\": \"white\", \"startlinecolor\": \"#2a3f5f\"}, \"type\": \"carpet\"}], \"choropleth\": [{\"colorbar\": {\"outlinewidth\": 0, \"ticks\": \"\"}, \"type\": \"choropleth\"}], \"contour\": [{\"colorbar\": {\"outlinewidth\": 0, \"ticks\": \"\"}, \"colorscale\": [[0.0, \"#0d0887\"], [0.1111111111111111, \"#46039f\"], [0.2222222222222222, \"#7201a8\"], [0.3333333333333333, \"#9c179e\"], [0.4444444444444444, \"#bd3786\"], [0.5555555555555556, \"#d8576b\"], [0.6666666666666666, \"#ed7953\"], [0.7777777777777778, \"#fb9f3a\"], [0.8888888888888888, \"#fdca26\"], [1.0, \"#f0f921\"]], \"type\": \"contour\"}], \"contourcarpet\": [{\"colorbar\": {\"outlinewidth\": 0, \"ticks\": \"\"}, \"type\": \"contourcarpet\"}], \"heatmap\": [{\"colorbar\": {\"outlinewidth\": 0, \"ticks\": \"\"}, \"colorscale\": [[0.0, \"#0d0887\"], [0.1111111111111111, \"#46039f\"], [0.2222222222222222, \"#7201a8\"], [0.3333333333333333, \"#9c179e\"], [0.4444444444444444, \"#bd3786\"], [0.5555555555555556, \"#d8576b\"], [0.6666666666666666, \"#ed7953\"], [0.7777777777777778, \"#fb9f3a\"], [0.8888888888888888, \"#fdca26\"], [1.0, \"#f0f921\"]], \"type\": \"heatmap\"}], \"heatmapgl\": [{\"colorbar\": {\"outlinewidth\": 0, \"ticks\": \"\"}, \"colorscale\": [[0.0, \"#0d0887\"], [0.1111111111111111, \"#46039f\"], [0.2222222222222222, \"#7201a8\"], [0.3333333333333333, \"#9c179e\"], [0.4444444444444444, \"#bd3786\"], [0.5555555555555556, \"#d8576b\"], [0.6666666666666666, \"#ed7953\"], [0.7777777777777778, \"#fb9f3a\"], [0.8888888888888888, \"#fdca26\"], [1.0, \"#f0f921\"]], \"type\": \"heatmapgl\"}], \"histogram\": [{\"marker\": {\"colorbar\": {\"outlinewidth\": 0, \"ticks\": \"\"}}, \"type\": \"histogram\"}], \"histogram2d\": [{\"colorbar\": {\"outlinewidth\": 0, \"ticks\": \"\"}, \"colorscale\": [[0.0, \"#0d0887\"], [0.1111111111111111, \"#46039f\"], [0.2222222222222222, \"#7201a8\"], [0.3333333333333333, \"#9c179e\"], [0.4444444444444444, \"#bd3786\"], [0.5555555555555556, \"#d8576b\"], [0.6666666666666666, \"#ed7953\"], [0.7777777777777778, \"#fb9f3a\"], [0.8888888888888888, \"#fdca26\"], [1.0, \"#f0f921\"]], \"type\": \"histogram2d\"}], \"histogram2dcontour\": [{\"colorbar\": {\"outlinewidth\": 0, \"ticks\": \"\"}, \"colorscale\": [[0.0, \"#0d0887\"], [0.1111111111111111, \"#46039f\"], [0.2222222222222222, \"#7201a8\"], [0.3333333333333333, \"#9c179e\"], [0.4444444444444444, \"#bd3786\"], [0.5555555555555556, \"#d8576b\"], [0.6666666666666666, \"#ed7953\"], [0.7777777777777778, \"#fb9f3a\"], [0.8888888888888888, \"#fdca26\"], [1.0, \"#f0f921\"]], \"type\": \"histogram2dcontour\"}], \"mesh3d\": [{\"colorbar\": {\"outlinewidth\": 0, \"ticks\": \"\"}, \"type\": \"mesh3d\"}], \"parcoords\": [{\"line\": {\"colorbar\": {\"outlinewidth\": 0, \"ticks\": \"\"}}, \"type\": \"parcoords\"}], \"pie\": [{\"automargin\": true, \"type\": \"pie\"}], \"scatter\": [{\"marker\": {\"colorbar\": {\"outlinewidth\": 0, \"ticks\": \"\"}}, \"type\": \"scatter\"}], \"scatter3d\": [{\"line\": {\"colorbar\": {\"outlinewidth\": 0, \"ticks\": \"\"}}, \"marker\": {\"colorbar\": {\"outlinewidth\": 0, \"ticks\": \"\"}}, \"type\": \"scatter3d\"}], \"scattercarpet\": [{\"marker\": {\"colorbar\": {\"outlinewidth\": 0, \"ticks\": \"\"}}, \"type\": \"scattercarpet\"}], \"scattergeo\": [{\"marker\": {\"colorbar\": {\"outlinewidth\": 0, \"ticks\": \"\"}}, \"type\": \"scattergeo\"}], \"scattergl\": [{\"marker\": {\"colorbar\": {\"outlinewidth\": 0, \"ticks\": \"\"}}, \"type\": \"scattergl\"}], \"scattermapbox\": [{\"marker\": {\"colorbar\": {\"outlinewidth\": 0, \"ticks\": \"\"}}, \"type\": \"scattermapbox\"}], \"scatterpolar\": [{\"marker\": {\"colorbar\": {\"outlinewidth\": 0, \"ticks\": \"\"}}, \"type\": \"scatterpolar\"}], \"scatterpolargl\": [{\"marker\": {\"colorbar\": {\"outlinewidth\": 0, \"ticks\": \"\"}}, \"type\": \"scatterpolargl\"}], \"scatterternary\": [{\"marker\": {\"colorbar\": {\"outlinewidth\": 0, \"ticks\": \"\"}}, \"type\": \"scatterternary\"}], \"surface\": [{\"colorbar\": {\"outlinewidth\": 0, \"ticks\": \"\"}, \"colorscale\": [[0.0, \"#0d0887\"], [0.1111111111111111, \"#46039f\"], [0.2222222222222222, \"#7201a8\"], [0.3333333333333333, \"#9c179e\"], [0.4444444444444444, \"#bd3786\"], [0.5555555555555556, \"#d8576b\"], [0.6666666666666666, \"#ed7953\"], [0.7777777777777778, \"#fb9f3a\"], [0.8888888888888888, \"#fdca26\"], [1.0, \"#f0f921\"]], \"type\": \"surface\"}], \"table\": [{\"cells\": {\"fill\": {\"color\": \"#EBF0F8\"}, \"line\": {\"color\": \"white\"}}, \"header\": {\"fill\": {\"color\": \"#C8D4E3\"}, \"line\": {\"color\": \"white\"}}, \"type\": \"table\"}]}, \"layout\": {\"annotationdefaults\": {\"arrowcolor\": \"#2a3f5f\", \"arrowhead\": 0, \"arrowwidth\": 1}, \"autotypenumbers\": \"strict\", \"coloraxis\": {\"colorbar\": {\"outlinewidth\": 0, \"ticks\": \"\"}}, \"colorscale\": {\"diverging\": [[0, \"#8e0152\"], [0.1, \"#c51b7d\"], [0.2, \"#de77ae\"], [0.3, \"#f1b6da\"], [0.4, \"#fde0ef\"], [0.5, \"#f7f7f7\"], [0.6, \"#e6f5d0\"], [0.7, \"#b8e186\"], [0.8, \"#7fbc41\"], [0.9, \"#4d9221\"], [1, \"#276419\"]], \"sequential\": [[0.0, \"#0d0887\"], [0.1111111111111111, \"#46039f\"], [0.2222222222222222, \"#7201a8\"], [0.3333333333333333, \"#9c179e\"], [0.4444444444444444, \"#bd3786\"], [0.5555555555555556, \"#d8576b\"], [0.6666666666666666, \"#ed7953\"], [0.7777777777777778, \"#fb9f3a\"], [0.8888888888888888, \"#fdca26\"], [1.0, \"#f0f921\"]], \"sequentialminus\": [[0.0, \"#0d0887\"], [0.1111111111111111, \"#46039f\"], [0.2222222222222222, \"#7201a8\"], [0.3333333333333333, \"#9c179e\"], [0.4444444444444444, \"#bd3786\"], [0.5555555555555556, \"#d8576b\"], [0.6666666666666666, \"#ed7953\"], [0.7777777777777778, \"#fb9f3a\"], [0.8888888888888888, \"#fdca26\"], [1.0, \"#f0f921\"]]}, \"colorway\": [\"#636efa\", \"#EF553B\", \"#00cc96\", \"#ab63fa\", \"#FFA15A\", \"#19d3f3\", \"#FF6692\", \"#B6E880\", \"#FF97FF\", \"#FECB52\"], \"font\": {\"color\": \"#2a3f5f\"}, \"geo\": {\"bgcolor\": \"white\", \"lakecolor\": \"white\", \"landcolor\": \"#E5ECF6\", \"showlakes\": true, \"showland\": true, \"subunitcolor\": \"white\"}, \"hoverlabel\": {\"align\": \"left\"}, \"hovermode\": \"closest\", \"mapbox\": {\"style\": \"light\"}, \"paper_bgcolor\": \"white\", \"plot_bgcolor\": \"#E5ECF6\", \"polar\": {\"angularaxis\": {\"gridcolor\": \"white\", \"linecolor\": \"white\", \"ticks\": \"\"}, \"bgcolor\": \"#E5ECF6\", \"radialaxis\": {\"gridcolor\": \"white\", \"linecolor\": \"white\", \"ticks\": \"\"}}, \"scene\": {\"xaxis\": {\"backgroundcolor\": \"#E5ECF6\", \"gridcolor\": \"white\", \"gridwidth\": 2, \"linecolor\": \"white\", \"showbackground\": true, \"ticks\": \"\", \"zerolinecolor\": \"white\"}, \"yaxis\": {\"backgroundcolor\": \"#E5ECF6\", \"gridcolor\": \"white\", \"gridwidth\": 2, \"linecolor\": \"white\", \"showbackground\": true, \"ticks\": \"\", \"zerolinecolor\": \"white\"}, \"zaxis\": {\"backgroundcolor\": \"#E5ECF6\", \"gridcolor\": \"white\", \"gridwidth\": 2, \"linecolor\": \"white\", \"showbackground\": true, \"ticks\": \"\", \"zerolinecolor\": \"white\"}}, \"shapedefaults\": {\"line\": {\"color\": \"#2a3f5f\"}}, \"ternary\": {\"aaxis\": {\"gridcolor\": \"white\", \"linecolor\": \"white\", \"ticks\": \"\"}, \"baxis\": {\"gridcolor\": \"white\", \"linecolor\": \"white\", \"ticks\": \"\"}, \"bgcolor\": \"#E5ECF6\", \"caxis\": {\"gridcolor\": \"white\", \"linecolor\": \"white\", \"ticks\": \"\"}}, \"title\": {\"x\": 0.05}, \"xaxis\": {\"automargin\": true, \"gridcolor\": \"white\", \"linecolor\": \"white\", \"ticks\": \"\", \"title\": {\"standoff\": 15}, \"zerolinecolor\": \"white\", \"zerolinewidth\": 2}, \"yaxis\": {\"automargin\": true, \"gridcolor\": \"white\", \"linecolor\": \"white\", \"ticks\": \"\", \"title\": {\"standoff\": 15}, \"zerolinecolor\": \"white\", \"zerolinewidth\": 2}}}, \"title\": {\"text\": \"World bank Project\"}, \"uniformtext\": {\"minsize\": 8, \"mode\": \"hide\"}, \"width\": 2000, \"xaxis\": {\"anchor\": \"y\", \"domain\": [0.0, 1.0], \"title\": {\"text\": \"country\"}}, \"yaxis\": {\"anchor\": \"x\", \"domain\": [0.0, 1.0], \"title\": {\"text\": \"count\"}}},                        {\"responsive\": true}                    ).then(function(){\n",
       "                            \n",
       "var gd = document.getElementById('211a557d-60fc-4248-bac4-679d33d9532f');\n",
       "var x = new MutationObserver(function (mutations, observer) {{\n",
       "        var display = window.getComputedStyle(gd).display;\n",
       "        if (!display || display === 'none') {{\n",
       "            console.log([gd, 'removed!']);\n",
       "            Plotly.purge(gd);\n",
       "            observer.disconnect();\n",
       "        }}\n",
       "}});\n",
       "\n",
       "// Listen for the removal of the full notebook cells\n",
       "var notebookContainer = gd.closest('#notebook-container');\n",
       "if (notebookContainer) {{\n",
       "    x.observe(notebookContainer, {childList: true});\n",
       "}}\n",
       "\n",
       "// Listen for the clearing of the current output cell\n",
       "var outputEl = gd.closest('.output');\n",
       "if (outputEl) {{\n",
       "    x.observe(outputEl, {childList: true});\n",
       "}}\n",
       "\n",
       "                        })                };                });            </script>        </div>"
      ]
     },
     "metadata": {},
     "output_type": "display_data"
    }
   ],
   "source": [
    "fig = px.bar(project_df.set_index('country'), y=\"count\", color=\"IEG_Outcome\", title=\"World bank Project\",width=2000, height=800)\n",
    "fig.update_traces(texttemplate='%{text:.2s}', textposition='outside')\n",
    "fig.update_layout(uniformtext_minsize=8, uniformtext_mode='hide')\n",
    "fig.show()\n"
   ]
  },
  {
   "cell_type": "code",
   "execution_count": 7,
   "metadata": {},
   "outputs": [],
   "source": [
    "from ipywidgets import interact, interactive, fixed, interact_manual\n",
    "import ipywidgets as widgets"
   ]
  },
  {
   "cell_type": "code",
   "execution_count": 8,
   "metadata": {},
   "outputs": [],
   "source": [
    "list=project_df['country'].unique()\n",
    "list.sort()"
   ]
  },
  {
   "cell_type": "code",
   "execution_count": 10,
   "metadata": {},
   "outputs": [
    {
     "data": {
      "application/vnd.jupyter.widget-view+json": {
       "model_id": "24b1aba5037f4b47b9b9c0d8798e67b6",
       "version_major": 2,
       "version_minor": 0
      },
      "text/plain": [
       "interactive(children=(Dropdown(description='country', options=('Afghanistan', 'Africa', 'Albania', 'Algeria', …"
      ]
     },
     "metadata": {},
     "output_type": "display_data"
    },
    {
     "data": {
      "text/plain": [
       "<function __main__.f(country)>"
      ]
     },
     "execution_count": 10,
     "metadata": {},
     "output_type": "execute_result"
    }
   ],
   "source": [
    "def f(country):\n",
    "    fig1 = px.bar(project_df.set_index('country').loc[country],\n",
    "            x=\"IEG_Outcome\",\n",
    "            y=\"count\",\n",
    "            title= 'World Bank Project for Country:'+ country,\n",
    "            text=\"count\")\n",
    "    #fig1.write_image(\"Images/fig2.png\")\n",
    "    fig1.show()\n",
    "    \n",
    "interact(f, country=(list))"
   ]
  },
  {
   "cell_type": "code",
   "execution_count": null,
   "metadata": {},
   "outputs": [],
   "source": []
  }
 ],
 "metadata": {
  "kernelspec": {
   "display_name": "Python 3",
   "language": "python",
   "name": "python3"
  },
  "language_info": {
   "codemirror_mode": {
    "name": "ipython",
    "version": 3
   },
   "file_extension": ".py",
   "mimetype": "text/x-python",
   "name": "python",
   "nbconvert_exporter": "python",
   "pygments_lexer": "ipython3",
   "version": "3.6.10"
  }
 },
 "nbformat": 4,
 "nbformat_minor": 4
}
